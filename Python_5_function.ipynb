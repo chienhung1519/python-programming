{
 "cells": [
  {
   "cell_type": "markdown",
   "metadata": {},
   "source": [
    "# Python 程式設計\n",
    "> Function"
   ]
  },
  {
   "cell_type": "markdown",
   "metadata": {
    "slideshow": {
     "slide_type": "slide"
    }
   },
   "source": [
    "## Function\n",
    " - 簡化重複作業撰寫\n",
    " - 增加程式的可讀性\n",
    " - $f(x) = y$"
   ]
  },
  {
   "cell_type": "markdown",
   "metadata": {
    "slideshow": {
     "slide_type": "subslide"
    }
   },
   "source": [
    "### Create function\n",
    " - name(函式名稱)、parameters(參數)、return(傳回值)\n",
    " - parameters、return are optional"
   ]
  },
  {
   "cell_type": "code",
   "execution_count": null,
   "metadata": {},
   "outputs": [],
   "source": [
    "def function_name(parameters):\n",
    "    statement\n",
    "    return value"
   ]
  },
  {
   "cell_type": "code",
   "execution_count": null,
   "metadata": {},
   "outputs": [],
   "source": [
    "# Try to create a fuction that adds two numbers.\n"
   ]
  },
  {
   "cell_type": "markdown",
   "metadata": {
    "slideshow": {
     "slide_type": "subslide"
    }
   },
   "source": [
    "### Call function\n",
    " - no return value\n",
    " - return value：需要指定變數"
   ]
  },
  {
   "cell_type": "code",
   "execution_count": null,
   "metadata": {},
   "outputs": [],
   "source": [
    "value = function_name(parameters)"
   ]
  },
  {
   "cell_type": "code",
   "execution_count": null,
   "metadata": {},
   "outputs": [],
   "source": [
    "# Try to use the function you created.\n"
   ]
  },
  {
   "cell_type": "markdown",
   "metadata": {
    "slideshow": {
     "slide_type": "subslide"
    }
   },
   "source": [
    "### Parameters\n",
    ">指定參數<br>\n",
    ">沒有參數<br>\n",
    ">不定參數<br>\n",
    ">預設參數"
   ]
  },
  {
   "cell_type": "markdown",
   "metadata": {
    "slideshow": {
     "slide_type": "subslide"
    }
   },
   "source": [
    "#### 指定參數"
   ]
  },
  {
   "cell_type": "code",
   "execution_count": null,
   "metadata": {},
   "outputs": [],
   "source": [
    "def calculate_sum(number1, number2, number3):\n",
    "    sum_number = 0\n",
    "    sum_number += number1\n",
    "    sum_number += number2\n",
    "    sum_number += number3\n",
    "    return sum_number\n",
    "\n",
    "sum_number = calculate_sum(1,2,3)\n",
    "sum_number"
   ]
  },
  {
   "cell_type": "markdown",
   "metadata": {
    "slideshow": {
     "slide_type": "subslide"
    }
   },
   "source": [
    "#### 沒有參數\n",
    " - 沒有參數的函式，通常是用於增加程式的`可讀性`"
   ]
  },
  {
   "cell_type": "code",
   "execution_count": null,
   "metadata": {},
   "outputs": [],
   "source": [
    "def calculate_sum():\n",
    "    sum_number = 0\n",
    "    sum_number += 1\n",
    "    sum_number += 2\n",
    "    sum_number += 3\n",
    "    return sum_number\n",
    "\n",
    "sum_number = calculate_sum()\n",
    "sum_number"
   ]
  },
  {
   "cell_type": "markdown",
   "metadata": {
    "slideshow": {
     "slide_type": "subslide"
    }
   },
   "source": [
    "#### 不定參數"
   ]
  },
  {
   "cell_type": "code",
   "execution_count": null,
   "metadata": {},
   "outputs": [],
   "source": [
    "def calculate_sum(*numbers):\n",
    "    sum_number = 0\n",
    "    for number in numbers:\n",
    "        sum_number += number\n",
    "    return sum_number\n",
    "\n",
    "sum_number = calculate_sum(1,2,3)\n",
    "sum_number"
   ]
  },
  {
   "cell_type": "code",
   "execution_count": null,
   "metadata": {
    "slideshow": {
     "slide_type": "subslide"
    }
   },
   "outputs": [],
   "source": [
    "# 一定要輸入一個數字\n",
    "def calculate_sum(number_1, *numbers):\n",
    "    sum_number = number_1\n",
    "    for number in numbers:\n",
    "        sum_number += number\n",
    "    return sum_number\n",
    "\n",
    "sum_number = calculate_sum(1,2,3)\n",
    "sum_number"
   ]
  },
  {
   "cell_type": "code",
   "execution_count": null,
   "metadata": {},
   "outputs": [],
   "source": [
    "# 不定參數一定要放在後面\n",
    "def calculate_sum(*numbers, number_1):\n",
    "    sum_number = number_1\n",
    "    for number in numbers:\n",
    "        sum_number += number\n",
    "    return sum_number\n",
    "\n",
    "sum_number = calculate_sum(1,2,3)\n",
    "sum_number"
   ]
  },
  {
   "cell_type": "markdown",
   "metadata": {
    "slideshow": {
     "slide_type": "subslide"
    }
   },
   "source": [
    "#### 預設參數\n",
    " - 遇到沒有輸入參數時，程式自動給參數\n",
    " - 預設參數須放至後方"
   ]
  },
  {
   "cell_type": "code",
   "execution_count": null,
   "metadata": {},
   "outputs": [],
   "source": [
    "def calculate_sum(number1=1, number2=2, number3=3):\n",
    "    sum_number = 0\n",
    "    sum_number += number1\n",
    "    sum_number += number2\n",
    "    sum_number += number3\n",
    "    return sum_number\n",
    "\n",
    "sum_number = calculate_sum()\n",
    "sum_number"
   ]
  },
  {
   "cell_type": "code",
   "execution_count": null,
   "metadata": {
    "slideshow": {
     "slide_type": "subslide"
    }
   },
   "outputs": [],
   "source": [
    "def calculate_sum(number1=1, number2=2, number3=3):\n",
    "    sum_number = 0\n",
    "    sum_number += number1\n",
    "    sum_number += number2\n",
    "    sum_number += number3\n",
    "    return sum_number\n",
    "\n",
    "sum_number = calculate_sum(2)\n",
    "sum_number"
   ]
  },
  {
   "cell_type": "code",
   "execution_count": null,
   "metadata": {
    "slideshow": {
     "slide_type": "subslide"
    }
   },
   "outputs": [],
   "source": [
    "def calculate_sum(number1=1, number2=2, number3=3):\n",
    "    sum_number = 0\n",
    "    sum_number += number1\n",
    "    sum_number += number2\n",
    "    sum_number += number3\n",
    "    return sum_number\n",
    "\n",
    "sum_number = calculate_sum(number3=5)\n",
    "sum_number"
   ]
  },
  {
   "cell_type": "code",
   "execution_count": null,
   "metadata": {
    "slideshow": {
     "slide_type": "subslide"
    }
   },
   "outputs": [],
   "source": [
    "def calculate_sum(number1=1, number2=2, number3):\n",
    "    sum_number = 0\n",
    "    sum_number += number1\n",
    "    sum_number += number2\n",
    "    sum_number += number3\n",
    "    return sum_number\n",
    "\n",
    "sum_number = calculate_sum(number3=5)\n",
    "sum_number"
   ]
  },
  {
   "cell_type": "markdown",
   "metadata": {
    "slideshow": {
     "slide_type": "subslide"
    }
   },
   "source": [
    "### Return\n",
    " - 要傳回值時，記得要加 return，\n",
    " - 如果傳回值需要保存，記得要指定給一個變數\n",
    " - 程式遇到 return 就停止執行後面的函式內容"
   ]
  },
  {
   "cell_type": "markdown",
   "metadata": {
    "slideshow": {
     "slide_type": "subslide"
    }
   },
   "source": [
    "判斷輸入值是否為正數，是的話回傳 True，不是的話回傳 False"
   ]
  },
  {
   "cell_type": "code",
   "execution_count": null,
   "metadata": {},
   "outputs": [],
   "source": []
  },
  {
   "cell_type": "markdown",
   "metadata": {
    "slideshow": {
     "slide_type": "subslide"
    }
   },
   "source": [
    "可以同時 return 多個資料"
   ]
  },
  {
   "cell_type": "code",
   "execution_count": null,
   "metadata": {},
   "outputs": [],
   "source": [
    "def calculate_sum(number1, number2, number3):\n",
    "    sum_number = 0\n",
    "    sum_number += number1\n",
    "    sum_number += number2\n",
    "    sum_number += number3\n",
    "    return sum_number, number1\n",
    "\n",
    "sum_number, number1 = calculate_sum(1,2,3) # 可以只 assign 給一個變數嗎?\n",
    "print(sum_number, number1)"
   ]
  },
  {
   "cell_type": "markdown",
   "metadata": {
    "slideshow": {
     "slide_type": "subslide"
    }
   },
   "source": [
    "### 全域變數 (Global variable) 與 區域變數 (Local variable)\n",
    " - 函式裡面宣告的變數為區域變數，出了函式就見光死\n",
    " - 函式外的變數為全域變數，函式可以拿來用"
   ]
  },
  {
   "cell_type": "markdown",
   "metadata": {
    "slideshow": {
     "slide_type": "subslide"
    }
   },
   "source": [
    "製作一個計算平均值的函式"
   ]
  },
  {
   "cell_type": "code",
   "execution_count": null,
   "metadata": {},
   "outputs": [],
   "source": [
    "def calculate_mean(x1, x2, x3):\n",
    "    total = 0\n",
    "    total += x1\n",
    "    total += x2\n",
    "    total += x3\n",
    "    mean = total / 3\n",
    "    return mean\n",
    "mean = calculate_mean(1,2,3)\n",
    "mean"
   ]
  },
  {
   "cell_type": "code",
   "execution_count": null,
   "metadata": {},
   "outputs": [],
   "source": [
    "total"
   ]
  },
  {
   "cell_type": "markdown",
   "metadata": {},
   "source": [
    "如果我也想要保留 total 呢?"
   ]
  },
  {
   "cell_type": "code",
   "execution_count": null,
   "metadata": {
    "slideshow": {
     "slide_type": "subslide"
    }
   },
   "outputs": [],
   "source": []
  },
  {
   "cell_type": "markdown",
   "metadata": {},
   "source": [
    "### Lambda\n",
    "* Function 的簡單表示法\n",
    "* 通常當 Function `只使用一次`且組成較簡單時使用"
   ]
  },
  {
   "cell_type": "code",
   "execution_count": null,
   "metadata": {},
   "outputs": [],
   "source": [
    "def add_one(x):\n",
    "    return x + 1\n",
    "a = add_one(2)\n",
    "a"
   ]
  },
  {
   "cell_type": "code",
   "execution_count": null,
   "metadata": {},
   "outputs": [],
   "source": [
    "# Lambda 的寫法\n",
    "add_one = lambda x: x+1\n",
    "b = add_one(2)\n",
    "b"
   ]
  },
  {
   "cell_type": "markdown",
   "metadata": {
    "slideshow": {
     "slide_type": "subslide"
    }
   },
   "source": [
    "### Reference\n",
    " - https://www.w3schools.com/python/python_functions.asp\n",
    " - https://www.runoob.com/python/python-functions.html"
   ]
  },
  {
   "cell_type": "markdown",
   "metadata": {},
   "source": [
    "## Practice"
   ]
  },
  {
   "cell_type": "markdown",
   "metadata": {},
   "source": [
    "請先 restart kernel，接著直接執行以下程式，程式結果將下載 score.npy 檔案"
   ]
  },
  {
   "cell_type": "code",
   "execution_count": null,
   "metadata": {},
   "outputs": [],
   "source": [
    "from urllib.request import urlretrieve\n",
    "url = 'https://drive.google.com/uc?export=download&id=1RQTtrzS5tUyzDqnK008L6mWoadEEkf5Q'\n",
    "urlretrieve(url, \"score.npy\")"
   ]
  },
  {
   "cell_type": "markdown",
   "metadata": {},
   "source": [
    "請用 numpy 讀取 score.npy 檔案，並將讀取結果指派給變數 score"
   ]
  },
  {
   "cell_type": "code",
   "execution_count": null,
   "metadata": {},
   "outputs": [],
   "source": []
  },
  {
   "cell_type": "markdown",
   "metadata": {},
   "source": [
    "score 中依序紀錄了學生的姓名、國文成績、英文成績、數學成績，請問 score 中有多少個學生的資料 ?"
   ]
  },
  {
   "cell_type": "code",
   "execution_count": null,
   "metadata": {},
   "outputs": [],
   "source": []
  },
  {
   "cell_type": "markdown",
   "metadata": {},
   "source": [
    "請刪除 score 中每筆資料的學生姓名"
   ]
  },
  {
   "cell_type": "code",
   "execution_count": null,
   "metadata": {},
   "outputs": [],
   "source": []
  },
  {
   "cell_type": "markdown",
   "metadata": {},
   "source": [
    "請製作一個 Function 符合以下條件：\n",
    " - Function 名稱為 calculat_score_mean\n",
    " - 輸入參數為前題刪除完學生姓名的 score\n",
    " - 輸出為國文、英文、數學三個平均分數\n",
    " - 請使用製作好的 Function，print 出國文、英文、數學三個平均分數"
   ]
  },
  {
   "cell_type": "code",
   "execution_count": null,
   "metadata": {},
   "outputs": [],
   "source": []
  }
 ],
 "metadata": {
  "kernelspec": {
   "display_name": "Python 3 (ipykernel)",
   "language": "python",
   "name": "python3"
  },
  "language_info": {
   "codemirror_mode": {
    "name": "ipython",
    "version": 3
   },
   "file_extension": ".py",
   "mimetype": "text/x-python",
   "name": "python",
   "nbconvert_exporter": "python",
   "pygments_lexer": "ipython3",
   "version": "3.11.7"
  }
 },
 "nbformat": 4,
 "nbformat_minor": 4
}
