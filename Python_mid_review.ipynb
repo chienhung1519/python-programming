{
 "cells": [
  {
   "cell_type": "markdown",
   "metadata": {
    "slideshow": {
     "slide_type": "subslide"
    }
   },
   "source": [
    "### 是非題\n",
    " - if 邏輯判斷後一定要有 else\n",
    " - if 邏輯判斷後面只能有一個 else\n",
    " - 不同類型的迴圈可以互相混用\n",
    " - for 迴圈不用控制運算式\n",
    " - 串列 (List) 的元素可以存放不同型別的資料"
   ]
  },
  {
   "cell_type": "markdown",
   "metadata": {
    "slideshow": {
     "slide_type": "subslide"
    }
   },
   "source": [
    "### 是非題\n",
    " - Set 會自動排序\n",
    " - 串列 (List) 之間不能使用指定運算 list1 = list2\n",
    " - 我們可以使用 ”=” 邏輯運算式，判斷兩個數字是否相等 \n",
    " - 設 num = 20 + True，num 的值為 21\n",
    " - 執行 for 迴圈時，如果想要提前離開迴圈，我們可以透過 return 指令"
   ]
  },
  {
   "cell_type": "markdown",
   "metadata": {
    "slideshow": {
     "slide_type": "subslide"
    }
   },
   "source": [
    "### 選擇題"
   ]
  },
  {
   "cell_type": "markdown",
   "metadata": {
    "slideshow": {
     "slide_type": "subslide"
    }
   },
   "source": [
    "1.\t以下何者不是 python 字串格式化的方式?<br> \n",
    "    (a) '五月天的演唱會都用%s螢光棒' % '藍色'<br>\n",
    "    (b) '%s統治中國%d年'.format('康熙', 61)<br> \n",
    "    (c) '五月天的演唱會都用{}螢光棒'.format('藍色')<br> \n",
    "    (d) f'x + y = {x + y}'"
   ]
  },
  {
   "cell_type": "markdown",
   "metadata": {
    "slideshow": {
     "slide_type": "subslide"
    }
   },
   "source": [
    "2. 迴圈中如果遇到特定情形想要跳過，但又必須繼續執行迴圈，需要下哪一個關鍵字?<br> \n",
    "   (a) continue<br> \n",
    "   (b) skip<br> \n",
    "   (c) break<br> \n",
    "   (d) pass"
   ]
  },
  {
   "cell_type": "markdown",
   "metadata": {
    "slideshow": {
     "slide_type": "subslide"
    }
   },
   "source": [
    "3.\t如果想要知道一個陣列中不重複的資料有哪些，可以使用以下何種方法?<br> \n",
    "    (a) list()<br> \n",
    "    (b) tuple()<br> \n",
    "    (c) set()<br> \n",
    "    (d) dict()"
   ]
  },
  {
   "cell_type": "markdown",
   "metadata": {
    "slideshow": {
     "slide_type": "subslide"
    }
   },
   "source": [
    "4.\t如果不希望使用者隨意修改資料，該使用何種資料結構?<br> \n",
    "    (a) List<br> \n",
    "    (b) Tuple<br> \n",
    "    (c) Set<br> \n",
    "    (d) Dictionary"
   ]
  },
  {
   "cell_type": "markdown",
   "metadata": {
    "slideshow": {
     "slide_type": "subslide"
    }
   },
   "source": [
    "5.\t執行 print(\"36\" + \"14\") 的結果為何？<br> \n",
    "    (a) 50<br> \n",
    "    (b) 3614<br> \n",
    "    (c) 22<br> \n",
    "    (d) 產生錯誤"
   ]
  },
  {
   "cell_type": "markdown",
   "metadata": {
    "slideshow": {
     "slide_type": "subslide"
    }
   },
   "source": [
    "6.\t執行下列程式，結束迴圈後，n 的值為多少？ (a) 1 (b) 2 (c) 7 (d) 8 "
   ]
  },
  {
   "cell_type": "code",
   "execution_count": null,
   "metadata": {},
   "outputs": [],
   "source": [
    "for n in range(1,8,2):\n",
    "    print(n, end=\" \") \n",
    "print(\"結束迴圈後 n=\", n)"
   ]
  },
  {
   "cell_type": "markdown",
   "metadata": {
    "slideshow": {
     "slide_type": "subslide"
    }
   },
   "source": [
    "7.\t請問 -5%2 的運算結果為<br>\n",
    "    (a) -1<br> \n",
    "    (b) -2<br> \n",
    "    (c) 1<br> \n",
    "    (d) 2"
   ]
  },
  {
   "cell_type": "markdown",
   "metadata": {
    "slideshow": {
     "slide_type": "subslide"
    }
   },
   "source": [
    "8.\t需精確的控制迴圈執行次數時, 用下列何種迴圈最適當<br> \n",
    "    (a) for<br> \n",
    "    (b) while<br> \n",
    "    (c) break<br> \n",
    "    (d) continue"
   ]
  },
  {
   "cell_type": "markdown",
   "metadata": {
    "slideshow": {
     "slide_type": "subslide"
    }
   },
   "source": [
    "9.\t串列 (List) 的索引值由多少開始？<br> \n",
    "    (1) -1<br> \n",
    "    (b) 0<br> \n",
    "    (c) 1<br> \n",
    "    (d) 以上皆非"
   ]
  },
  {
   "cell_type": "markdown",
   "metadata": {
    "slideshow": {
     "slide_type": "subslide"
    }
   },
   "source": [
    "### 除錯題\n",
    "#### WillyPillow 正在學習 Python 程式設計，在安裝完 `Python3` 之後，寫了五個小程式，但寫完後不知道哪裡錯了，請幫他個忙，讓他的程式能夠正常運作。"
   ]
  },
  {
   "cell_type": "markdown",
   "metadata": {
    "slideshow": {
     "slide_type": "subslide"
    }
   },
   "source": [
    "1. WillyPillow 想要撰寫一個英文星期轉換中文星期的程式，例如輸入『Monday』會輸出『星期一』。"
   ]
  },
  {
   "cell_type": "code",
   "execution_count": null,
   "metadata": {},
   "outputs": [],
   "source": [
    "day = input()\n",
    "\n",
    "if day = 'Monday'\n",
    "    print 星期一\n",
    "elif day = 'Tuesday'\n",
    "    print 星期二\n",
    "elif day = 'Wednesday'\n",
    "    print 星期三\n",
    "elif day = 'Thursday'\n",
    "    print 星期四\n",
    "elif day = 'Friday'\n",
    "    print 星期五\n",
    "elif day = 'Saturday'\n",
    "    print 星期六\n",
    "elif day = 'Sunday'\n",
    "    print 星期日"
   ]
  },
  {
   "cell_type": "markdown",
   "metadata": {
    "slideshow": {
     "slide_type": "subslide"
    }
   },
   "source": [
    "2. WillyPillow 想撰寫一個程式計算 1~20000 中所有偶數的總和。"
   ]
  },
  {
   "cell_type": "code",
   "execution_count": null,
   "metadata": {},
   "outputs": [],
   "source": [
    "for number in range(20000):\n",
    "    total = 0\n",
    "    if number % 2 == 0\n",
    "        total + number\n",
    "print total"
   ]
  },
  {
   "cell_type": "markdown",
   "metadata": {
    "slideshow": {
     "slide_type": "subslide"
    }
   },
   "source": [
    "3. WillyPillow 想撰寫一個程式將一段文章用換行符號斷句，並判斷每個句子中是否有出現 WillyPillow 的名字。如句子中有出現 WillyPillow，則印出出現的次數，如未出現則不印出出現次數。"
   ]
  },
  {
   "cell_type": "code",
   "execution_count": null,
   "metadata": {},
   "outputs": [],
   "source": [
    "sentences = '''WillyPillow is learning Python.\n",
    "WillyPillow feels Python is fun.\n",
    "It needs time to improve Python.\n",
    "WillyPillow named his PC WillyPillow PC.\n",
    "WillyPillow WillyPillow WillyPillow ... do not hate WillyPillow'''\n",
    "\n",
    "for sentence in snetences.split():\n",
    "    if 'WillyPillow' in sentence:\n",
    "        words = sentence.split()\n",
    "    print sentence + '：出現 WillyPillow ' + words.count('WillyPillow') + ' 次'"
   ]
  },
  {
   "cell_type": "markdown",
   "metadata": {
    "slideshow": {
     "slide_type": "subslide"
    }
   },
   "source": [
    "4. WillyPillow 想撰寫一個程式計算陣列 (List) 中數值的平均數。"
   ]
  },
  {
   "cell_type": "code",
   "execution_count": null,
   "metadata": {},
   "outputs": [],
   "source": [
    "numbers = [5,3,7,2,8]\n",
    "total = numbers.sum()\n",
    "mean = total / length(numbers)\n",
    "print mean"
   ]
  },
  {
   "cell_type": "markdown",
   "metadata": {
    "slideshow": {
     "slide_type": "subslide"
    }
   },
   "source": [
    "5. WillyPillow 想撰寫一個程式印出儲存於 Dictionary 的電影資料。"
   ]
  },
  {
   "cell_type": "code",
   "execution_count": null,
   "metadata": {},
   "outputs": [],
   "source": [
    "movie = {'name': 'Gemini Man', \n",
    "         'director': 'Ang Lee', \n",
    "         'Starring': 'Will Smith', \n",
    "         'Running time':117}\n",
    "for k,v in movie:\n",
    "    print k+'：'+v"
   ]
  }
 ],
 "metadata": {
  "celltoolbar": "Slideshow",
  "kernelspec": {
   "display_name": "Python 3 (ipykernel)",
   "language": "python",
   "name": "python3"
  },
  "language_info": {
   "codemirror_mode": {
    "name": "ipython",
    "version": 3
   },
   "file_extension": ".py",
   "mimetype": "text/x-python",
   "name": "python",
   "nbconvert_exporter": "python",
   "pygments_lexer": "ipython3",
   "version": "3.11.7"
  }
 },
 "nbformat": 4,
 "nbformat_minor": 4
}
