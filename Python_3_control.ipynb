{
 "cells": [
  {
   "cell_type": "markdown",
   "metadata": {
    "editable": true,
    "slideshow": {
     "slide_type": "slide"
    },
    "tags": []
   },
   "source": [
    "# Python 程式設計\n",
    ">控制流程"
   ]
  },
  {
   "cell_type": "markdown",
   "metadata": {
    "slideshow": {
     "slide_type": "slide"
    }
   },
   "source": [
    "## 成為控制哥/姐\n",
    ">if...elif...else (condition)<br>\n",
    ">for...in... (for loop)<br>\n",
    ">while... (while loop)"
   ]
  },
  {
   "cell_type": "markdown",
   "metadata": {
    "slideshow": {
     "slide_type": "subslide"
    }
   },
   "source": [
    "### if...elif...else\n",
    "符合條件要做什麼事\n",
    ">if condition1:<br>\n",
    ">&ensp;&ensp;statement1<br>\n",
    ">elif condition2:<br>\n",
    ">&ensp;&ensp;statement2<br>\n",
    ">else:<br>\n",
    ">&ensp;&ensp;statement3\n",
    "    \n",
    " - 注意條件後面要有 `:`，而且換行後要有 `tab`\n",
    " - `elif` 和 `else` 為 optional，通常 `else` 有助於 debug"
   ]
  },
  {
   "cell_type": "markdown",
   "metadata": {
    "slideshow": {
     "slide_type": "subslide"
    }
   },
   "source": [
    "最喜歡的漫畫?"
   ]
  },
  {
   "cell_type": "code",
   "execution_count": 76,
   "metadata": {},
   "outputs": [
    {
     "name": "stdout",
     "output_type": "stream",
     "text": [
      "中生代宅宅\n"
     ]
    }
   ],
   "source": [
    "comic = '海賊王'\n",
    "if comic == '七龍珠':\n",
    "    print('上古宅宅')\n",
    "elif comic == '海賊王':\n",
    "    print('中生代宅宅')\n",
    "else:\n",
    "    print('我不是宅宅')"
   ]
  },
  {
   "cell_type": "markdown",
   "metadata": {
    "slideshow": {
     "slide_type": "subslide"
    }
   },
   "source": [
    "### for...in...\n",
    "依序取出物品\n",
    ">for item in list:<br>\n",
    ">&ensp;&ensp;statement\n",
    "\n",
    " - 巢狀迴圈通常不建議超過 3 層"
   ]
  },
  {
   "cell_type": "code",
   "execution_count": 77,
   "metadata": {
    "slideshow": {
     "slide_type": "subslide"
    }
   },
   "outputs": [
    {
     "name": "stdout",
     "output_type": "stream",
     "text": [
      "我唐寅今年十八歲姑蘇人氏身家清白素無過犯只\n",
      "為家況清貧鬻身華相府充當書童身價銀五十四兩自\n",
      "秋節起暫存帳房待三年後支取從此當值書房每日焚\n",
      "香三地洗硯磨墨等等聽憑使喚從頭做起立此據為憑\n"
     ]
    }
   ],
   "source": [
    "doc = ['我唐寅今年十八歲姑蘇人氏身家清白素無過犯只',\n",
    "       '為家況清貧鬻身華相府充當書童身價銀五十四兩自',\n",
    "       '秋節起暫存帳房待三年後支取從此當值書房每日焚',\n",
    "       '香三地洗硯磨墨等等聽憑使喚從頭做起立此據為憑']\n",
    "\n",
    "for sentence in doc:\n",
    "    print(sentence)"
   ]
  },
  {
   "cell_type": "code",
   "execution_count": 78,
   "metadata": {},
   "outputs": [
    {
     "name": "stdout",
     "output_type": "stream",
     "text": [
      "我\n",
      "為\n",
      "秋\n",
      "香\n"
     ]
    }
   ],
   "source": [
    "for sentence in doc:\n",
    "    print(sentence[0])"
   ]
  },
  {
   "cell_type": "markdown",
   "metadata": {
    "slideshow": {
     "slide_type": "subslide"
    }
   },
   "source": [
    "### for...in...\n",
    "固定次數內不斷做一些事\n",
    ">for index in range(start, end):<br>\n",
    ">&ensp;&ensp;statement<br>\n",
    " - range()"
   ]
  },
  {
   "cell_type": "code",
   "execution_count": 79,
   "metadata": {},
   "outputs": [
    {
     "name": "stdout",
     "output_type": "stream",
     "text": [
      "我\n",
      "為\n",
      "秋\n",
      "香\n"
     ]
    }
   ],
   "source": [
    "doc = ['我唐寅今年十八歲姑蘇人氏身家清白素無過犯只',\n",
    "       '為家況清貧鬻身華相府充當書童身價銀五十四兩自',\n",
    "       '秋節起暫存帳房待三年後支取從此當值書房每日焚',\n",
    "       '香三地洗硯磨墨等等聽憑使喚從頭做起立此據為憑']\n",
    "\n",
    "for index in range(len(doc)):\n",
    "    print(doc[index][0])"
   ]
  },
  {
   "cell_type": "markdown",
   "metadata": {
    "slideshow": {
     "slide_type": "subslide"
    }
   },
   "source": [
    "印出 2, 4, 6, 8, 10"
   ]
  },
  {
   "cell_type": "code",
   "execution_count": 80,
   "metadata": {},
   "outputs": [
    {
     "name": "stdout",
     "output_type": "stream",
     "text": [
      "0\n",
      "2\n",
      "4\n",
      "6\n",
      "8\n",
      "10\n"
     ]
    }
   ],
   "source": [
    "for index in range(11):\n",
    "    if index % 2 == 0:\n",
    "        print(index)"
   ]
  },
  {
   "cell_type": "code",
   "execution_count": 81,
   "metadata": {},
   "outputs": [
    {
     "name": "stdout",
     "output_type": "stream",
     "text": [
      "2\n",
      "4\n",
      "6\n",
      "8\n",
      "10\n"
     ]
    }
   ],
   "source": [
    "for index in range(11):\n",
    "    if index % 2 == 0 and index > 0:\n",
    "        print(index)"
   ]
  },
  {
   "cell_type": "code",
   "execution_count": 82,
   "metadata": {},
   "outputs": [
    {
     "name": "stdout",
     "output_type": "stream",
     "text": [
      "2\n",
      "4\n",
      "6\n",
      "8\n",
      "10\n"
     ]
    }
   ],
   "source": [
    "for index in range(2,11):\n",
    "    if index % 2 == 0:\n",
    "        print(index)"
   ]
  },
  {
   "cell_type": "code",
   "execution_count": 83,
   "metadata": {},
   "outputs": [
    {
     "name": "stdout",
     "output_type": "stream",
     "text": [
      "2\n",
      "4\n",
      "6\n",
      "8\n",
      "10\n"
     ]
    }
   ],
   "source": [
    "for index in range(2,11,2):\n",
    "    print(index)"
   ]
  },
  {
   "cell_type": "markdown",
   "metadata": {
    "slideshow": {
     "slide_type": "subslide"
    }
   },
   "source": [
    "### while...\n",
    "未知次數不斷做一些事\n",
    ">while condition:<br>\n",
    ">&ensp;&ensp;statement<br>\n",
    "\n",
    " - 小心變成無窮迴圈\n",
    " - 巢狀迴圈通常不建議超過 3 層"
   ]
  },
  {
   "cell_type": "markdown",
   "metadata": {
    "slideshow": {
     "slide_type": "subslide"
    }
   },
   "source": [
    "印出 2, 4, 6, 8, 10"
   ]
  },
  {
   "cell_type": "code",
   "execution_count": 85,
   "metadata": {},
   "outputs": [
    {
     "name": "stdout",
     "output_type": "stream",
     "text": [
      "2\n",
      "4\n",
      "6\n",
      "8\n",
      "10\n"
     ]
    }
   ],
   "source": [
    "index = 2\n",
    "while index <= 10:\n",
    "    if index % 2 == 0:\n",
    "        print(index)\n",
    "    index += 2"
   ]
  },
  {
   "cell_type": "markdown",
   "metadata": {
    "slideshow": {
     "slide_type": "subslide"
    }
   },
   "source": [
    "### break\n",
    "\n",
    "休息一下吧! => 跳過當下迴圈"
   ]
  },
  {
   "cell_type": "code",
   "execution_count": 88,
   "metadata": {},
   "outputs": [
    {
     "name": "stdout",
     "output_type": "stream",
     "text": [
      "我\n",
      "為\n"
     ]
    }
   ],
   "source": [
    "doc = ['我唐寅今年十八歲姑蘇人氏身家清白素無過犯只',\n",
    "       '為家況清貧鬻身華相府充當書童身價銀五十四兩自',\n",
    "       '秋節起暫存帳房待三年後支取從此當值書房每日焚',\n",
    "       '香三地洗硯磨墨等等聽憑使喚從頭做起立此據為憑']\n",
    "\n",
    "for index in range(len(doc)):\n",
    "    if index == 2:\n",
    "        break\n",
    "    print(doc[index][0])"
   ]
  },
  {
   "cell_type": "markdown",
   "metadata": {
    "slideshow": {
     "slide_type": "subslide"
    }
   },
   "source": [
    "### continue\n",
    "我們繼續吧! => 跳過當下的 item"
   ]
  },
  {
   "cell_type": "code",
   "execution_count": 89,
   "metadata": {},
   "outputs": [
    {
     "name": "stdout",
     "output_type": "stream",
     "text": [
      "我\n",
      "為\n",
      "香\n"
     ]
    }
   ],
   "source": [
    "doc = ['我唐寅今年十八歲姑蘇人氏身家清白素無過犯只',\n",
    "       '為家況清貧鬻身華相府充當書童身價銀五十四兩自',\n",
    "       '秋節起暫存帳房待三年後支取從此當值書房每日焚',\n",
    "       '香三地洗硯磨墨等等聽憑使喚從頭做起立此據為憑']\n",
    "\n",
    "for index in range(len(doc)):\n",
    "    if index == 2:\n",
    "        continue\n",
    "    print(doc[index][0])"
   ]
  },
  {
   "cell_type": "markdown",
   "metadata": {
    "slideshow": {
     "slide_type": "slide"
    }
   },
   "source": [
    "## 小練習\n",
    ">如何計算所有數字的加總"
   ]
  },
  {
   "cell_type": "markdown",
   "metadata": {
    "slideshow": {
     "slide_type": "fragment"
    }
   },
   "source": [
    "思考：想像寫程式就是在創造一個機器人，假如要我想要機器人做動作，我會經過什麼流程?"
   ]
  },
  {
   "cell_type": "markdown",
   "metadata": {
    "slideshow": {
     "slide_type": "subslide"
    }
   },
   "source": [
    "1. 設定變數：多少個變數? 什麼型態的變數?"
   ]
  },
  {
   "cell_type": "code",
   "execution_count": 90,
   "metadata": {},
   "outputs": [],
   "source": [
    "x1 = 0\n",
    "x2 = 0\n",
    "x3 = 0\n",
    "x4 = 0\n",
    "x5 = 0\n",
    "total = 0"
   ]
  },
  {
   "cell_type": "markdown",
   "metadata": {
    "slideshow": {
     "slide_type": "subslide"
    }
   },
   "source": [
    "2. 讀入資料\n",
    " - input()"
   ]
  },
  {
   "cell_type": "code",
   "execution_count": 91,
   "metadata": {},
   "outputs": [
    {
     "name": "stdout",
     "output_type": "stream",
     "text": [
      "3\n",
      "4\n",
      "2\n",
      "6\n",
      "8\n"
     ]
    }
   ],
   "source": [
    "x1 = input()\n",
    "x2 = input()\n",
    "x3 = input()\n",
    "x4 = input()\n",
    "x5 = input()"
   ]
  },
  {
   "cell_type": "markdown",
   "metadata": {
    "slideshow": {
     "slide_type": "subslide"
    }
   },
   "source": [
    "3. 運算"
   ]
  },
  {
   "cell_type": "code",
   "execution_count": null,
   "metadata": {},
   "outputs": [],
   "source": []
  },
  {
   "cell_type": "markdown",
   "metadata": {
    "slideshow": {
     "slide_type": "subslide"
    }
   },
   "source": [
    "4. 輸出結果"
   ]
  },
  {
   "cell_type": "code",
   "execution_count": null,
   "metadata": {},
   "outputs": [],
   "source": []
  },
  {
   "cell_type": "markdown",
   "metadata": {
    "slideshow": {
     "slide_type": "subslide"
    }
   },
   "source": [
    "5. 思考有沒有更好的方式?"
   ]
  },
  {
   "cell_type": "code",
   "execution_count": null,
   "metadata": {},
   "outputs": [],
   "source": []
  }
 ],
 "metadata": {
  "kernelspec": {
   "display_name": "Python 3 (ipykernel)",
   "language": "python",
   "name": "python3"
  },
  "language_info": {
   "codemirror_mode": {
    "name": "ipython",
    "version": 3
   },
   "file_extension": ".py",
   "mimetype": "text/x-python",
   "name": "python",
   "nbconvert_exporter": "python",
   "pygments_lexer": "ipython3",
   "version": "3.11.7"
  }
 },
 "nbformat": 4,
 "nbformat_minor": 4
}
