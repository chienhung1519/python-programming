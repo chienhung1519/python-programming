{
 "cells": [
  {
   "cell_type": "markdown",
   "metadata": {},
   "source": [
    "# Python Programming\n",
    "> 期末考實作測驗"
   ]
  },
  {
   "cell_type": "markdown",
   "metadata": {},
   "source": [
    "## Project 1：Air Quality analysis"
   ]
  },
  {
   "cell_type": "markdown",
   "metadata": {},
   "source": [
    "請直接執行以下程式，程式結果將下載 ATM00679_20191230173049.csv 檔案，此檔案由 [OpenData.epa](https://opendata.epa.gov.tw/) 所下載。"
   ]
  },
  {
   "cell_type": "code",
   "execution_count": null,
   "metadata": {},
   "outputs": [],
   "source": [
    "from urllib.request import urlretrieve\n",
    "url = 'https://drive.google.com/uc?export=download&id=1lua5zOUUzev-9BZ3MLcp_2FJMDWfJ-DF'\n",
    "urlretrieve(url, \"ATM00679_20191230173049.csv\")"
   ]
  },
  {
   "cell_type": "markdown",
   "metadata": {},
   "source": [
    "ATM00679_20191230173049.csv 檔案欄位說明\n",
    " - SiteId：測站編號\n",
    " - SiteName：測站名稱\n",
    " - MonitorDate：監測日期\n",
    " - AQI：空氣品質指標\n",
    " - SO2SubIndex：二氧化硫副指標\n",
    " - COSubIndex：一氧化碳副指標\n",
    " - O3SubIndex：臭氧副指標\n",
    " - PM10SubIndex：懸浮微粒副指標\n",
    " - NO2SubIndex：二氧化氮副指標\n",
    " - O38SubIndex：臭氧8小時副指標\n",
    " - PM25SubIndex：細懸浮微粒副指標"
   ]
  },
  {
   "cell_type": "markdown",
   "metadata": {},
   "source": [
    "請導入 Pandas 函式庫，並以 pd 作代稱 (1%)"
   ]
  },
  {
   "cell_type": "code",
   "execution_count": null,
   "metadata": {},
   "outputs": [],
   "source": []
  },
  {
   "cell_type": "markdown",
   "metadata": {},
   "source": [
    "請使用 Pandas 讀取 ATM00679_20191230173049.csv，將讀取到的 DataFrame 指派給變數 `air_quality`，並顯示最後五筆資料 (4%)"
   ]
  },
  {
   "cell_type": "code",
   "execution_count": null,
   "metadata": {},
   "outputs": [],
   "source": []
  },
  {
   "cell_type": "markdown",
   "metadata": {},
   "source": [
    "請 print 出 \"air_quality 共有 ? 筆資料\" (2%)"
   ]
  },
  {
   "cell_type": "code",
   "execution_count": null,
   "metadata": {},
   "outputs": [],
   "source": []
  },
  {
   "cell_type": "markdown",
   "metadata": {},
   "source": [
    "請計算每個欄位的遺漏值個數 (2%)"
   ]
  },
  {
   "cell_type": "code",
   "execution_count": null,
   "metadata": {},
   "outputs": [],
   "source": []
  },
  {
   "cell_type": "markdown",
   "metadata": {},
   "source": [
    "請將全部皆為遺漏值的欄位刪除，並顯示前五筆資料 (2%)"
   ]
  },
  {
   "cell_type": "code",
   "execution_count": null,
   "metadata": {},
   "outputs": [],
   "source": []
  },
  {
   "cell_type": "markdown",
   "metadata": {},
   "source": [
    "請將遺漏值刪除，並 print 出 \"刪除遺漏值後資料筆數為 ? 筆\" (2%)"
   ]
  },
  {
   "cell_type": "code",
   "execution_count": null,
   "metadata": {},
   "outputs": [],
   "source": []
  },
  {
   "cell_type": "markdown",
   "metadata": {},
   "source": [
    "請依照 SiteName 分別計算出每個地區的 `平均AQI`，並 print 出 \"平均AQI最大值出現在 ? \" (4%)"
   ]
  },
  {
   "cell_type": "code",
   "execution_count": null,
   "metadata": {},
   "outputs": [],
   "source": []
  },
  {
   "cell_type": "markdown",
   "metadata": {},
   "source": [
    "請從 air_quality 取出 [\"AQI\", \"SO2SubIndex\", \"COSubIndex\", \"PM10SubIndex\", \"NO2SubIndex\", \"O38SubIndex\", \"PM25SubIndex\"] 等 7 個欄位的資料並指派給變數 `corr_data` (資料型態為 DataFrame) (2%)"
   ]
  },
  {
   "cell_type": "code",
   "execution_count": null,
   "metadata": {},
   "outputs": [],
   "source": []
  },
  {
   "cell_type": "markdown",
   "metadata": {},
   "source": [
    "請參考 [Pandas dataframe.corr()](https://www.geeksforgeeks.org/python-pandas-dataframe-corr/) 的方式，計算欄位間的 Pearson 相關係數矩陣，並將此矩陣指派給變數 `pearson_corr` (2%)"
   ]
  },
  {
   "cell_type": "code",
   "execution_count": null,
   "metadata": {},
   "outputs": [],
   "source": []
  },
  {
   "cell_type": "markdown",
   "metadata": {},
   "source": [
    "請找出 AQI 相關係數最大值的其他欄位，並 print 出 \" 與 AQI 最相關的欄位為 ? \" (4%)"
   ]
  },
  {
   "cell_type": "code",
   "execution_count": null,
   "metadata": {},
   "outputs": [],
   "source": []
  },
  {
   "cell_type": "markdown",
   "metadata": {},
   "source": [
    "## Project 2：Lyric analysis"
   ]
  },
  {
   "cell_type": "markdown",
   "metadata": {},
   "source": [
    "請直接執行以下程式，程式結果將下載三個檔案，分別為 ntusd-positive (zh-tw).txt、ntusd-negative (zh-tw).txt、lyrics_cut_mayday.dataset。ntusd-positive (zh-tw).txt、ntusd-negative (zh-tw).txt 來自於 [link](https://github.com/candlewill/Sentiment_Lexicons/tree/master/resources)；lyrics_cut_mayday.dataset 來自於 [link](https://github.com/youngmihuang/lyrics_application/blob/master/dataset/lyrics_cut_mayday.dataset)。"
   ]
  },
  {
   "cell_type": "code",
   "execution_count": null,
   "metadata": {},
   "outputs": [],
   "source": [
    "from urllib.request import urlretrieve\n",
    "url = 'https://drive.google.com/uc?export=download&id=1wQTOqpDYCau_vL0LCfY-LuOKs6aXRAKL'\n",
    "urlretrieve(url, \"ntusd-positive (zh-tw).txt\")\n",
    "url = 'https://drive.google.com/uc?export=download&id=1CshwZlYgTTwpukk6JqlXEOMW4u1xRofK'\n",
    "urlretrieve(url, \"ntusd-negative (zh-tw).txt\")\n",
    "url = 'https://drive.google.com/uc?export=download&id=1W_6cD6T9zgQBnpfKX-3etpltH0Y6uIpd'\n",
    "urlretrieve(url, \"lyrics_cut_mayday.dataset\")"
   ]
  },
  {
   "cell_type": "markdown",
   "metadata": {},
   "source": [
    "dataset introduction\n",
    " - ntusd-positive (zh-tw).txt：繁體中文跟正向情緒相關的詞語\n",
    " - ntusd-negative (zh-tw).txt：繁體中文跟負向情緒相關的詞語\n",
    " - lyrics_cut_mayday.dataset：36 首 Mayday 的歌詞，已作過斷詞"
   ]
  },
  {
   "cell_type": "markdown",
   "metadata": {},
   "source": [
    "請使用 open() 開啟上述三個檔案，並分別將檔案資料斷行後指派給變數 `positive`、`negative`、`lyrics` (3%)"
   ]
  },
  {
   "cell_type": "code",
   "execution_count": null,
   "metadata": {},
   "outputs": [],
   "source": []
  },
  {
   "cell_type": "markdown",
   "metadata": {},
   "source": [
    "請將 `lyrics` 中的每首歌詞依照空格作切分後，指派給另一個變數 `lyrics_seg` (亦即 lyrics_seg 為斷完詞的36首歌詞) (3%)"
   ]
  },
  {
   "cell_type": "code",
   "execution_count": null,
   "metadata": {},
   "outputs": [],
   "source": []
  },
  {
   "cell_type": "markdown",
   "metadata": {},
   "source": [
    "`lyrics_seg` 作切割，最後一筆資料指派給變數 `x_test`，其餘指派給變數 `x_train`，並 print 出 \"x_train 共有 ? 筆資料\" (3%)"
   ]
  },
  {
   "cell_type": "code",
   "execution_count": null,
   "metadata": {},
   "outputs": [],
   "source": []
  },
  {
   "cell_type": "markdown",
   "metadata": {},
   "source": [
    "請製作 Function 符合以下條件： (4%)\n",
    " - 名稱為 `get_sentiment`\n",
    " - 輸入參數為 `x_train` 的每筆資料，在此請將參數命名為 `lyric`\n",
    " - 輸出為輸入資料的情感，正向則輸出 `1`，負向則輸出 `-1`\n",
    " - 情感分數的計算方式為：\n",
    "  - 宣告一個變數 `score` 為 0\n",
    "  - 依序判斷歌詞中的每個字是否有出現在 `positve` 或 `negative` 之中\n",
    "  - 如在 `positve` 有出現，則 `score` 加 1；如在 `negative` 有出現，則 `score` 減 1\n",
    "  - 最後 `score` 如大於 0，則為正向；如小於等於 0，則為負向"
   ]
  },
  {
   "cell_type": "code",
   "execution_count": null,
   "metadata": {},
   "outputs": [],
   "source": []
  },
  {
   "cell_type": "markdown",
   "metadata": {},
   "source": [
    "請使用 `get_sentiment` 取得 `x_train` 中每筆資料的情感，並將結果儲存於變數 `y_train` 中 (2%)"
   ]
  },
  {
   "cell_type": "code",
   "execution_count": null,
   "metadata": {},
   "outputs": [],
   "source": []
  },
  {
   "cell_type": "markdown",
   "metadata": {},
   "source": [
    "請找出 `x_train` 共出現了哪些詞語，並將結果儲存於變數 `words` (2%)"
   ]
  },
  {
   "cell_type": "code",
   "execution_count": null,
   "metadata": {},
   "outputs": [],
   "source": []
  },
  {
   "cell_type": "markdown",
   "metadata": {},
   "source": [
    "請製作 Function 符合以下條件： (4%)\n",
    " - 名稱為 `get_bag_of_word`\n",
    " - 輸入參數為 `x_train` 的每筆資料與 `words`，在此請將參數命名為 `lyric` 與 `words`\n",
    " - 輸出為輸入資料的向量\n",
    " - 向量的產生方式如下：\n",
    "  - 導入 numpy 函式庫，並以 np 作代稱\n",
    "  - 宣告變數 `vector` 為 `words` 長度的全零 Array。\n",
    "  - 依序計算 `words` 中的詞語在輸入資料的出現次數，並調整 `vector` 中對應位置的數值\n",
    "  - 輸出結果示意：array([19.,  6., 18., ...,  0.,  0.,  0.])"
   ]
  },
  {
   "cell_type": "code",
   "execution_count": null,
   "metadata": {},
   "outputs": [],
   "source": []
  },
  {
   "cell_type": "markdown",
   "metadata": {},
   "source": [
    "以下 Function 可計算兩個向量的相似度，請依序將 `x_train` 使用 `get_bag_of_word` 轉成向量後，再與同樣使用 `get_bag_of_word` 轉成向量的 `x_test` 計算相似度，找出最高相似度的三首歌詞，並加總這三首歌詞對應 `y_train` 的值，最後 print \"測試資料的情緒為 ? \"。(?可為1/-1或positive/negative) (4%)"
   ]
  },
  {
   "cell_type": "code",
   "execution_count": null,
   "metadata": {},
   "outputs": [],
   "source": [
    "def get_similarity(vector1, vector2):\n",
    "    dot_product = 0.0\n",
    "    normA = 0.0\n",
    "    normB = 0.0\n",
    "    for a, b in zip(vector1, vector2):\n",
    "        dot_product += a * b\n",
    "        normA += a ** 2\n",
    "        normB += b ** 2\n",
    "    return dot_product / ((normA * normB) ** 0.5)"
   ]
  },
  {
   "cell_type": "code",
   "execution_count": null,
   "metadata": {},
   "outputs": [],
   "source": []
  }
 ],
 "metadata": {
  "kernelspec": {
   "display_name": "Python 3",
   "language": "python",
   "name": "python3"
  },
  "language_info": {
   "codemirror_mode": {
    "name": "ipython",
    "version": 3
   },
   "file_extension": ".py",
   "mimetype": "text/x-python",
   "name": "python",
   "nbconvert_exporter": "python",
   "pygments_lexer": "ipython3",
   "version": "3.7.0"
  }
 },
 "nbformat": 4,
 "nbformat_minor": 2
}
