{
 "cells": [
  {
   "cell_type": "markdown",
   "metadata": {
    "slideshow": {
     "slide_type": "slide"
    }
   },
   "source": [
    "## 課堂練習\n",
    ">歐基里德距離 (60%) <br>\n",
    ">cosin similarity (40%)"
   ]
  },
  {
   "cell_type": "code",
   "execution_count": null,
   "metadata": {},
   "outputs": [],
   "source": []
  },
  {
   "cell_type": "markdown",
   "metadata": {
    "slideshow": {
     "slide_type": "subslide"
    }
   },
   "source": [
    "### 歐基里德距離\n",
    " - 參考資料:https://en.wikipedia.org/wiki/Euclidean_distance\n",
    " - 請使用 input() 輸入 10 個整數，並儲存至變數\n",
    " - 請將前五個變數當作第一個向量點，後五個變數當作第二個向量點，請計算這兩個向量點的歐基里德距離\n",
    " - 請將計算出的歐基里德距離使用任一種字串格式化方式印出\"the distance is #\" (# 為計算出的歐基里德距離)"
   ]
  },
  {
   "cell_type": "code",
   "execution_count": null,
   "metadata": {},
   "outputs": [],
   "source": []
  },
  {
   "cell_type": "markdown",
   "metadata": {
    "slideshow": {
     "slide_type": "subslide"
    }
   },
   "source": [
    "### cosin similarity\n",
    " - 參考資料：https://en.wikipedia.org/wiki/Cosine_similarity\n",
    " - 請在只使用一個 for 迴圈的方式計算 cosin similarity\n",
    "  - 兩個向量點的維度都是 300 維\n",
    "  - 第一個向量點為 (1,0,1,0,1,0,.....) -> 0 1 相間\n",
    "  - 第二個向量點為 (1,1,1,1,...,0,0,0) -> 前 150 個為 1, 後 150 個為 0\n",
    " - 請使用與前題不同字串格式化方式印出\"the cosin similarity is #\" (# 為計算出的 cosin similarity)"
   ]
  },
  {
   "cell_type": "code",
   "execution_count": null,
   "metadata": {},
   "outputs": [],
   "source": []
  }
 ],
 "metadata": {
  "kernelspec": {
   "display_name": "Python 3",
   "language": "python",
   "name": "python3"
  },
  "language_info": {
   "codemirror_mode": {
    "name": "ipython",
    "version": 3
   },
   "file_extension": ".py",
   "mimetype": "text/x-python",
   "name": "python",
   "nbconvert_exporter": "python",
   "pygments_lexer": "ipython3",
   "version": "3.7.0"
  }
 },
 "nbformat": 4,
 "nbformat_minor": 2
}
