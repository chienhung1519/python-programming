{
 "cells": [
  {
   "cell_type": "markdown",
   "metadata": {
    "slideshow": {
     "slide_type": "slide"
    }
   },
   "source": [
    "# Python 程式設計\n",
    "> Function<br>\n",
    "> Numpy"
   ]
  },
  {
   "cell_type": "markdown",
   "metadata": {
    "slideshow": {
     "slide_type": "slide"
    }
   },
   "source": [
    "## Final Projrct Notification\n",
    " - 考試時間：2020/01/04 15:10~18:00\n",
    " - 考試方式：兩人一組\n",
    " - 考試題型：類似每次上課的練習\n",
    " - 請 12/27 23:59 前到下面 link 填寫分組名單，未填寫則隨機分組\n",
    " - [link](https://docs.google.com/forms/d/e/1FAIpQLSc5Exbez5uO4HG6zLFZMkfEi2wUxnZQyK3Afukk_0OvZaWeiQ/viewform?usp=sf_link)"
   ]
  },
  {
   "cell_type": "markdown",
   "metadata": {
    "slideshow": {
     "slide_type": "slide"
    }
   },
   "source": [
    "## Mid-term Exam"
   ]
  },
  {
   "cell_type": "markdown",
   "metadata": {
    "slideshow": {
     "slide_type": "subslide"
    }
   },
   "source": [
    "### 是非題\n",
    " - (X) if邏輯判斷後一定要有else\n",
    " - (O) if邏輯判斷後面只能有一個else\n",
    " - (O) 不同類型的迴圈可以互相混用\n",
    " - (X) for 迴圈不用控制運算式\n",
    " - (O) 串列(List)的元素可以存放不同型別的資料"
   ]
  },
  {
   "cell_type": "markdown",
   "metadata": {
    "slideshow": {
     "slide_type": "subslide"
    }
   },
   "source": [
    "### 是非題\n",
    " - (X) Set會自動排序\n",
    " - (X) 串列(List)之間不能使用指定運算\n",
    " - (X) 我們可以使用”=”邏輯運算式，判斷兩個數字是否相等。 \n",
    " - (O) 設 num = 20 + True，num 的值為 21\n",
    " - (X) 執行 for 迴圈時，如果想要提前離開迴圈，我們可以透過 return 指令"
   ]
  },
  {
   "cell_type": "markdown",
   "metadata": {
    "slideshow": {
     "slide_type": "subslide"
    }
   },
   "source": [
    "### 選擇題"
   ]
  },
  {
   "cell_type": "markdown",
   "metadata": {
    "slideshow": {
     "slide_type": "subslide"
    }
   },
   "source": [
    "1.\t以下何者不是python字串格式化的方式?<br> \n",
    "    (a) '五月天的演唱會都用%s螢光棒' % '藍色'<br>\n",
    "    **(b) '%s統治中國%d年'.format('康熙', 61)**<br> \n",
    "    (c) '五月天的演唱會都用{}螢光棒'.format('藍色')<br> \n",
    "    (d) f'x + y = {x + y}'"
   ]
  },
  {
   "cell_type": "markdown",
   "metadata": {
    "slideshow": {
     "slide_type": "subslide"
    }
   },
   "source": [
    "2. 迴圈中如果遇到特定情形想要跳過，但又必須繼續執行迴圈，需要下哪一個關鍵字?<br> \n",
    "   **(a) continue**<br> \n",
    "   (b) skip<br> \n",
    "   (c) break<br> \n",
    "   (d) pass"
   ]
  },
  {
   "cell_type": "markdown",
   "metadata": {
    "slideshow": {
     "slide_type": "subslide"
    }
   },
   "source": [
    "3.\t如果想要知道一個陣列中不重複的資料有哪些，可以使用以下何種方法?<br> \n",
    "    (a) list()<br> \n",
    "    (b) tuple()<br> \n",
    "    **(c) set()**<br> \n",
    "    (d) dict()"
   ]
  },
  {
   "cell_type": "markdown",
   "metadata": {
    "slideshow": {
     "slide_type": "subslide"
    }
   },
   "source": [
    "4.\t如果不希望使用者隨意修改資料，該使用何種資料結構?<br> \n",
    "    (a) List<br> \n",
    "    **(b) Tuple**<br> \n",
    "    (c) Set<br> \n",
    "    (d) Dictionary"
   ]
  },
  {
   "cell_type": "markdown",
   "metadata": {
    "slideshow": {
     "slide_type": "subslide"
    }
   },
   "source": [
    "5.\t執行 print(\"36\" + \"14\") 的結果為何？<br> \n",
    "    (a) 50<br> \n",
    "    **(b) 3614**<br> \n",
    "    (c) 22<br> \n",
    "    (d) 產生錯誤"
   ]
  },
  {
   "cell_type": "markdown",
   "metadata": {
    "slideshow": {
     "slide_type": "subslide"
    }
   },
   "source": [
    "6.\t執行下列程式，結束迴圈後，n 的值為多少？ (a) 1 (b) 2 **(c) 7** (d) 8 "
   ]
  },
  {
   "cell_type": "code",
   "execution_count": 1,
   "metadata": {},
   "outputs": [
    {
     "name": "stdout",
     "output_type": "stream",
     "text": [
      "1 3 5 7 結束迴圈後 n= 7\n"
     ]
    }
   ],
   "source": [
    "for n in range(1,8,2):\n",
    "    print(n, end=\" \") \n",
    "print(\"結束迴圈後 n=\", n)"
   ]
  },
  {
   "cell_type": "markdown",
   "metadata": {
    "slideshow": {
     "slide_type": "subslide"
    }
   },
   "source": [
    "7.\t關於字典，下列何者敘述是錯誤的？<br> \n",
    "    (a) 以「鍵-值」對方式儲存<br> \n",
    "    **(b) 資料依序排列**<br>\n",
    "    (c) 可由「鍵」取得「值」<br> \n",
    "    (d) 資料隨機排列"
   ]
  },
  {
   "cell_type": "markdown",
   "metadata": {
    "slideshow": {
     "slide_type": "subslide"
    }
   },
   "source": [
    "8.\t請問 -5%2 的運算結果為<br>\n",
    "    (a) -1<br> \n",
    "    (b) -2<br> \n",
    "    **(c) 1**<br> \n",
    "    (d) 2"
   ]
  },
  {
   "cell_type": "markdown",
   "metadata": {
    "slideshow": {
     "slide_type": "subslide"
    }
   },
   "source": [
    "9.\t需精確的控制迴圈執行次數時, 用下列何種迴圈最適當<br> \n",
    "    **(a) for**<br> \n",
    "    (b) while<br> \n",
    "    (c) break<br> \n",
    "    (d) continue"
   ]
  },
  {
   "cell_type": "markdown",
   "metadata": {
    "slideshow": {
     "slide_type": "subslide"
    }
   },
   "source": [
    "10.\t串列(List)的索引值由多少開始？<br> \n",
    "    (1) -1<br> \n",
    "    **(b) 0**<br> \n",
    "    (c) 1<br> \n",
    "    (d) 以上皆非"
   ]
  },
  {
   "cell_type": "markdown",
   "metadata": {
    "slideshow": {
     "slide_type": "subslide"
    }
   },
   "source": [
    "### 除錯題\n",
    "#### WillyPillow 正在學習 Python 程式設計，在安裝完 `Python3` 之後，寫了五個小程式，但寫完後不知道哪裡錯了，請幫他個忙，讓他的程式能夠正常運作。"
   ]
  },
  {
   "cell_type": "markdown",
   "metadata": {
    "slideshow": {
     "slide_type": "subslide"
    }
   },
   "source": [
    "1. WillyPillow 想要撰寫一個英文星期轉換中文星期的程式，例如輸入『Monday』會輸出『星期一』。"
   ]
  },
  {
   "cell_type": "code",
   "execution_count": null,
   "metadata": {},
   "outputs": [],
   "source": [
    "day = input()\n",
    "\n",
    "if day = 'Monday'\n",
    "    print 星期一\n",
    "elif day = 'Tuesday'\n",
    "    print 星期二\n",
    "elif day = 'Wednesday'\n",
    "    print 星期三\n",
    "elif day = 'Thursday'\n",
    "    print 星期四\n",
    "elif day = 'Friday'\n",
    "    print 星期五\n",
    "elif day = 'Saturday'\n",
    "    print 星期六\n",
    "elif day = 'Sunday'\n",
    "    print 星期日"
   ]
  },
  {
   "cell_type": "code",
   "execution_count": null,
   "metadata": {
    "slideshow": {
     "slide_type": "subslide"
    }
   },
   "outputs": [],
   "source": [
    "day = input()\n",
    "\n",
    "if day == 'Monday':\n",
    "    print ('星期一')\n",
    "elif day == 'Tuesday':\n",
    "    print ('星期二')\n",
    "elif day == 'Wednesday':\n",
    "    print ('星期三')\n",
    "elif day == 'Thursday':\n",
    "    print ('星期四')\n",
    "elif day == 'Friday':\n",
    "    print ('星期五')\n",
    "elif day == 'Saturday':\n",
    "    print ('星期六')\n",
    "elif day == 'Sunday':\n",
    "    print ('星期日')"
   ]
  },
  {
   "cell_type": "markdown",
   "metadata": {
    "slideshow": {
     "slide_type": "subslide"
    }
   },
   "source": [
    "2. WillyPillow 想撰寫一個程式計算 1~20000 中所有偶數的總和。"
   ]
  },
  {
   "cell_type": "code",
   "execution_count": null,
   "metadata": {},
   "outputs": [],
   "source": [
    "for number in range(20000):\n",
    "    total = 0\n",
    "    if number % 2 == 0\n",
    "        total + number\n",
    "print total"
   ]
  },
  {
   "cell_type": "code",
   "execution_count": null,
   "metadata": {
    "slideshow": {
     "slide_type": "subslide"
    }
   },
   "outputs": [],
   "source": [
    "total = 0\n",
    "for number in range(1,20001):\n",
    "    if number % 2 == 0:\n",
    "        total += number\n",
    "print (total)"
   ]
  },
  {
   "cell_type": "markdown",
   "metadata": {
    "slideshow": {
     "slide_type": "subslide"
    }
   },
   "source": [
    "3. WillyPillow 想撰寫一個程式將一段文章用換行符號斷句，並判斷每個句子中是否有出現 WillyPillow 的名字。如句子中有出現 WillyPillow，則印出出現的次數，如未出現則不印出出現次數。"
   ]
  },
  {
   "cell_type": "code",
   "execution_count": null,
   "metadata": {},
   "outputs": [],
   "source": [
    "sentences = '''WillyPillow is learning Python.\n",
    "WillyPillow feels Python is fun.\n",
    "It needs time to improve Python.\n",
    "WillyPillow named his PC WillyPillow PC.\n",
    "WillyPillow WillyPillow WillyPillow ... do not hate WillyPillow'''\n",
    "\n",
    "for sentence in snetences.split():\n",
    "    if 'WillyPillow' in sentence:\n",
    "        words = sentence.split()\n",
    "    print sentence + '：出現 WillyPillow ' + words.count('WillyPillow') + ' 次'"
   ]
  },
  {
   "cell_type": "code",
   "execution_count": null,
   "metadata": {
    "slideshow": {
     "slide_type": "subslide"
    }
   },
   "outputs": [],
   "source": [
    "sentences = '''WillyPillow is learning Python.\n",
    "WillyPillow feels Python is fun.\n",
    "It needs time to improve Python.\n",
    "WillyPillow named his PC WillyPillow PC.\n",
    "WillyPillow WillyPillow WillyPillow ... do not hate WillyPillow'''\n",
    "\n",
    "for sentence in sentences.split('\\n'):\n",
    "    if 'WillyPillow' in sentence:\n",
    "        words = sentence.split()\n",
    "        print (sentence + '：出現 WillyPillow ' + str(words.count('WillyPillow')) + ' 次')"
   ]
  },
  {
   "cell_type": "markdown",
   "metadata": {
    "slideshow": {
     "slide_type": "subslide"
    }
   },
   "source": [
    "4. WillyPillow 想撰寫一個程式計算陣列 (List) 中數值的平均數。"
   ]
  },
  {
   "cell_type": "code",
   "execution_count": null,
   "metadata": {},
   "outputs": [],
   "source": [
    "numbers = [5,3,7,2,8]\n",
    "total = numbers.sum()\n",
    "mean = total / length(numbers)\n",
    "print mean"
   ]
  },
  {
   "cell_type": "code",
   "execution_count": null,
   "metadata": {
    "slideshow": {
     "slide_type": "subslide"
    }
   },
   "outputs": [],
   "source": [
    "numbers = [5,3,7,2,8]\n",
    "total = sum(numbers)\n",
    "mean = total / len(numbers)\n",
    "print (mean)"
   ]
  },
  {
   "cell_type": "markdown",
   "metadata": {
    "slideshow": {
     "slide_type": "subslide"
    }
   },
   "source": [
    "5. WillyPillow 想撰寫一個程式印出儲存於 Dictionary 的電影資料。"
   ]
  },
  {
   "cell_type": "code",
   "execution_count": null,
   "metadata": {},
   "outputs": [],
   "source": [
    "movie = {'name': 'Gemini Man', \n",
    "         'director': 'Ang Lee', \n",
    "         'Starring': 'Will Smith', \n",
    "         'Running time':117}\n",
    "for k,v in movie:\n",
    "    print k+'：'+v"
   ]
  },
  {
   "cell_type": "code",
   "execution_count": null,
   "metadata": {
    "slideshow": {
     "slide_type": "subslide"
    }
   },
   "outputs": [],
   "source": [
    "movie = {'name': 'Gemini Man', \n",
    "         'director': 'Ang Lee', \n",
    "         'Starring': 'Will Smith', \n",
    "         'Running time':117}\n",
    "for k,v in movie.items():\n",
    "    print (k+'：'+str(v))"
   ]
  },
  {
   "cell_type": "markdown",
   "metadata": {
    "slideshow": {
     "slide_type": "slide"
    }
   },
   "source": [
    "## Last Practice\n",
    ">製作一段文章的字數字典"
   ]
  },
  {
   "cell_type": "code",
   "execution_count": null,
   "metadata": {
    "slideshow": {
     "slide_type": "subslide"
    }
   },
   "outputs": [],
   "source": [
    "paragraph = '''\n",
    "『木頭物語』\n",
    "\n",
    "妳老跟朋友抱怨我像根木頭\n",
    "我聽說後，總是笑笑的不以為意\n",
    "我不善於流露出我的情感\n",
    "實著是怯於顯露出吧\n",
    "我只想把妳照顧好\n",
    "在妳喊餓時\n",
    "跑去一公里外的那家妳最愛吃的麵店\n",
    "買份妳最愛吃的乾麵\n",
    "靜靜的陪妳吃完\n",
    "電話中妳說妳病了\n",
    "連忙甩掉手中的實驗報告\n",
    "跑到妳的住處照顧妳\n",
    "\n",
    "妳常安慰自己\n",
    "我的木頭是因為理性蓋過了感性\n",
    "況且木頭也沒啥不好\n",
    "因為沒有別的女生會愛上一個木頭\n",
    "我聽了之後仍舊是笑了笑\n",
    "星空下，妳突然提到曼妮的男朋友帶她去看去看星星時\n",
    "對她說的情話 讓我不得不嚥下差點出口的星體運行現象\n",
    "\n",
    "東區的JoJo裡\n",
    "妳興奮的拿起一件新款外套試穿時\n",
    "我正在猜想它是由哪些材料複合而成\n",
    "到台中的自強號上\n",
    "妳認真的問我「到底愛不愛我？」\n",
    "我對突如其來的問題感到不知所措\n",
    "只好不斷地傻笑\n",
    "\n",
    "大雨的那個晚上\n",
    "妳說妳餓了而且有事對我說\n",
    "於是我撐著傘\n",
    "從一公里外的那家麵店\n",
    "提回一碗乾麵\n",
    "陪著妳吃完那碗麵\n",
    "妳慢慢地對我說：『我覺得你一點也不愛我，你不能給我想要的感覺，我們分開一陣子 好不好？』\n",
    "我還是輕輕的笑了笑\n",
    "靜靜的走回我的住處\n",
    "留下那把傘在妳的門口\n",
    "\n",
    "我仍每天穿梭於實驗室和教室間\n",
    "埋首於課本和實驗數據中\n",
    "沒人發現妳離開了我\n",
    "同學們只發現我花更長的時間在課本上\n",
    "一個月後的一個雨天\n",
    "抓著剛做出的實驗數據\n",
    "衝回宿舍 在門口看見濕淋淋的妳\n",
    "下意識的脫下外套包住妳\n",
    "妳突然緊抱著我\n",
    "哽咽地說：「木頭，對不起」\n",
    "這次妳看不見我笑了笑 因為，我哭了\n",
    "\n",
    "人因為有選擇，所以變得違反規則\n",
    "一般人生活在現今繁榮的經濟體系下，在任何人、事、物中都有很多的選擇，也因為有太多的選擇，所以舉棋不定、猶豫不決變成了大部份人的習慣。\n",
    "\n",
    "當你看著別桌跟你吃的不一樣時，你可能開始懷疑是不是他們的比較好吃？\n",
    "\n",
    "所以每當拿起菜單目錄看到林林總總一大推的菜名，你只好又開始舉棋不定啦！\n",
    "\n",
    "當你看到朋友、同學日子過的不錯，你可能開始懷疑自己是不是入錯行、選錯公司了,於是三心二意、工作不力，下場只好每況愈下。 \n",
    "\n",
    "當你逛街看到美女、辣妹，你可能懷疑自己是不是娶錯老婆、交錯女朋友？\n",
    "\n",
    "回家便沒好臉色看！感情怎麼會好？ \n",
    "也因為選擇多了，更容易使自己迷失、不知道自己要的是什麼？\n",
    "\n",
    "記得有一次諮商一對夫妻，過程中我問老公︰『假如這輩子你只能買一部喜歡的車，也不能換，那你會如何保養這部車？』\n",
    "\n",
    "老公很興奮的說︰『那我會用最好的機油、準時保養、常常洗車........。』\n",
    "\n",
    "我邊點頭微笑邊聽他講了一大堆，這時我又問︰『那假如這輩子你只能娶一個老婆，也不能換，那你會如何對待她？』\n",
    "\n",
    "這時老公臉一紅，摟著老婆伸手跟我握手說︰『我知道答案了！』\n",
    "\n",
    "一瞬間老公看老婆的眼神都變了。\n",
    "有時侯沒有選擇會比有選擇好！\n",
    "在今天你如何重新面對你的工作？你的另一半？\n",
    "\n",
    "~~如果沒有選擇。\n",
    "生命是一連串孤立的片刻。\n",
    "靠著回憶和幻想，許多意義浮現了，在消失與浮現不斷的重複之中獲得解放與安慰。\n",
    "好好珍惜身邊的人哦........\n",
    "\n",
    "『在身邊默默為你付出的人往往都不懂得珍惜\n",
    "就是因為有了選擇才會錯過身邊的寶』\n",
    "'''\n",
    "\n",
    "# https://www.wagor.tc.edu.tw/doc/articles/0023.htm"
   ]
  },
  {
   "cell_type": "markdown",
   "metadata": {
    "slideshow": {
     "slide_type": "subslide"
    }
   },
   "source": [
    "1. 請將 paragraph 變成 unigram ('木', '頭', ...)"
   ]
  },
  {
   "cell_type": "code",
   "execution_count": null,
   "metadata": {},
   "outputs": [],
   "source": [
    "unigram = list(paragraph)"
   ]
  },
  {
   "cell_type": "markdown",
   "metadata": {
    "slideshow": {
     "slide_type": "subslide"
    }
   },
   "source": [
    "2. 請找出 paragraph 有那些不重複字 ('木', '頭', ...)"
   ]
  },
  {
   "cell_type": "code",
   "execution_count": null,
   "metadata": {},
   "outputs": [],
   "source": [
    "words = set(paragraph)"
   ]
  },
  {
   "cell_type": "markdown",
   "metadata": {
    "slideshow": {
     "slide_type": "subslide"
    }
   },
   "source": [
    "3. 請計算每個不重複字在 paragraph 中出現幾次，並存成 Dictionary<br>\n",
    "count_dict = {'木':1, '頭':2, ...}"
   ]
  },
  {
   "cell_type": "code",
   "execution_count": null,
   "metadata": {},
   "outputs": [],
   "source": [
    "count_dict = dict()\n",
    "for word in words:\n",
    "    count_dict[word] = unigrame.count(word)"
   ]
  },
  {
   "cell_type": "code",
   "execution_count": null,
   "metadata": {},
   "outputs": [],
   "source": [
    "count_dict = dict()\n",
    "for word in unigram:\n",
    "    if word not in count_dict:\n",
    "        count_dict[word] = 1\n",
    "    else:\n",
    "        count_dict[word] += 1"
   ]
  },
  {
   "cell_type": "markdown",
   "metadata": {
    "slideshow": {
     "slide_type": "slide"
    }
   },
   "source": [
    "## Function\n",
    " - 簡化重複作業撰寫\n",
    " - 增加程式的可讀性\n",
    " - $f(x) = y$"
   ]
  },
  {
   "cell_type": "markdown",
   "metadata": {
    "slideshow": {
     "slide_type": "subslide"
    }
   },
   "source": [
    "### Create function\n",
    " - name(函式名稱)、parameters(參數)、return(傳回值)\n",
    " - parameters、return are optional"
   ]
  },
  {
   "cell_type": "code",
   "execution_count": null,
   "metadata": {},
   "outputs": [],
   "source": [
    "def function_name(parameters):\n",
    "    statement\n",
    "    return value"
   ]
  },
  {
   "cell_type": "code",
   "execution_count": 1,
   "metadata": {},
   "outputs": [],
   "source": [
    "def printHelloWorld():\n",
    "    print('HelloWorld')\n",
    "def add(x,y):\n",
    "    return x + y"
   ]
  },
  {
   "cell_type": "markdown",
   "metadata": {
    "slideshow": {
     "slide_type": "subslide"
    }
   },
   "source": [
    "### Call function\n",
    " - no return value\n",
    " - return value：需要指定變數"
   ]
  },
  {
   "cell_type": "code",
   "execution_count": null,
   "metadata": {},
   "outputs": [],
   "source": [
    "value = function_name(parameters)"
   ]
  },
  {
   "cell_type": "code",
   "execution_count": 6,
   "metadata": {},
   "outputs": [
    {
     "data": {
      "text/plain": [
       "3"
      ]
     },
     "execution_count": 6,
     "metadata": {},
     "output_type": "execute_result"
    }
   ],
   "source": [
    "v = add(1,2)\n",
    "v"
   ]
  },
  {
   "cell_type": "markdown",
   "metadata": {
    "slideshow": {
     "slide_type": "subslide"
    }
   },
   "source": [
    "### Parameters\n",
    ">指定參數<br>\n",
    ">沒有參數<br>\n",
    ">不定參數<br>\n",
    ">預設參數"
   ]
  },
  {
   "cell_type": "markdown",
   "metadata": {
    "slideshow": {
     "slide_type": "subslide"
    }
   },
   "source": [
    "#### 指定參數"
   ]
  },
  {
   "cell_type": "code",
   "execution_count": 7,
   "metadata": {},
   "outputs": [
    {
     "data": {
      "text/plain": [
       "6"
      ]
     },
     "execution_count": 7,
     "metadata": {},
     "output_type": "execute_result"
    }
   ],
   "source": [
    "def calculate_sum(number1, number2, number3):\n",
    "    sum_number = 0\n",
    "    sum_number += number1\n",
    "    sum_number += number2\n",
    "    sum_number += number3\n",
    "    return sum_number\n",
    "\n",
    "sum_number = calculate_sum(1,2,3)\n",
    "sum_number"
   ]
  },
  {
   "cell_type": "markdown",
   "metadata": {
    "slideshow": {
     "slide_type": "subslide"
    }
   },
   "source": [
    "#### 沒有參數\n",
    " - 沒有參數的函式，通常是用於增加程式的可讀性"
   ]
  },
  {
   "cell_type": "code",
   "execution_count": 8,
   "metadata": {},
   "outputs": [
    {
     "data": {
      "text/plain": [
       "6"
      ]
     },
     "execution_count": 8,
     "metadata": {},
     "output_type": "execute_result"
    }
   ],
   "source": [
    "def calculate_sum():\n",
    "    sum_number = 0\n",
    "    sum_number += 1\n",
    "    sum_number += 2\n",
    "    sum_number += 3\n",
    "    return sum_number\n",
    "\n",
    "sum_number = calculate_sum()\n",
    "sum_number"
   ]
  },
  {
   "cell_type": "markdown",
   "metadata": {
    "slideshow": {
     "slide_type": "subslide"
    }
   },
   "source": [
    "#### 不定參數"
   ]
  },
  {
   "cell_type": "code",
   "execution_count": 11,
   "metadata": {},
   "outputs": [
    {
     "data": {
      "text/plain": [
       "0"
      ]
     },
     "execution_count": 11,
     "metadata": {},
     "output_type": "execute_result"
    }
   ],
   "source": [
    "def calculate_sum(*numbers):\n",
    "    sum_number = 0\n",
    "    for number in numbers:\n",
    "        sum_number += number\n",
    "    return sum_number\n",
    "\n",
    "sum_number = calculate_sum()\n",
    "sum_number"
   ]
  },
  {
   "cell_type": "code",
   "execution_count": 14,
   "metadata": {
    "slideshow": {
     "slide_type": "subslide"
    }
   },
   "outputs": [
    {
     "ename": "TypeError",
     "evalue": "calculate_sum() missing 1 required positional argument: 'number_1'",
     "output_type": "error",
     "traceback": [
      "\u001b[1;31m---------------------------------------------------------------------------\u001b[0m",
      "\u001b[1;31mTypeError\u001b[0m                                 Traceback (most recent call last)",
      "\u001b[1;32m<ipython-input-14-7f7e77a4d058>\u001b[0m in \u001b[0;36m<module>\u001b[1;34m()\u001b[0m\n\u001b[0;32m      6\u001b[0m     \u001b[1;32mreturn\u001b[0m \u001b[0msum_number\u001b[0m\u001b[1;33m\u001b[0m\u001b[0m\n\u001b[0;32m      7\u001b[0m \u001b[1;33m\u001b[0m\u001b[0m\n\u001b[1;32m----> 8\u001b[1;33m \u001b[0msum_number\u001b[0m \u001b[1;33m=\u001b[0m \u001b[0mcalculate_sum\u001b[0m\u001b[1;33m(\u001b[0m\u001b[1;33m)\u001b[0m\u001b[1;33m\u001b[0m\u001b[0m\n\u001b[0m\u001b[0;32m      9\u001b[0m \u001b[0msum_number\u001b[0m\u001b[1;33m\u001b[0m\u001b[0m\n",
      "\u001b[1;31mTypeError\u001b[0m: calculate_sum() missing 1 required positional argument: 'number_1'"
     ]
    }
   ],
   "source": [
    "# 一定要輸入一個數字\n",
    "def calculate_sum(number_1, *numbers):\n",
    "    sum_number = number_1\n",
    "    for number in numbers:\n",
    "        sum_number += number\n",
    "    return sum_number\n",
    "\n",
    "sum_number = calculate_sum()\n",
    "sum_number"
   ]
  },
  {
   "cell_type": "code",
   "execution_count": 15,
   "metadata": {
    "slideshow": {
     "slide_type": "subslide"
    }
   },
   "outputs": [
    {
     "ename": "TypeError",
     "evalue": "calculate_sum() missing 1 required keyword-only argument: 'number_1'",
     "output_type": "error",
     "traceback": [
      "\u001b[1;31m---------------------------------------------------------------------------\u001b[0m",
      "\u001b[1;31mTypeError\u001b[0m                                 Traceback (most recent call last)",
      "\u001b[1;32m<ipython-input-15-b60efee6091a>\u001b[0m in \u001b[0;36m<module>\u001b[1;34m()\u001b[0m\n\u001b[0;32m      5\u001b[0m     \u001b[1;32mreturn\u001b[0m \u001b[0msum_number\u001b[0m\u001b[1;33m\u001b[0m\u001b[0m\n\u001b[0;32m      6\u001b[0m \u001b[1;33m\u001b[0m\u001b[0m\n\u001b[1;32m----> 7\u001b[1;33m \u001b[0msum_number\u001b[0m \u001b[1;33m=\u001b[0m \u001b[0mcalculate_sum\u001b[0m\u001b[1;33m(\u001b[0m\u001b[1;36m1\u001b[0m\u001b[1;33m,\u001b[0m\u001b[1;36m2\u001b[0m\u001b[1;33m,\u001b[0m\u001b[1;36m3\u001b[0m\u001b[1;33m)\u001b[0m\u001b[1;33m\u001b[0m\u001b[0m\n\u001b[0m\u001b[0;32m      8\u001b[0m \u001b[0msum_number\u001b[0m\u001b[1;33m\u001b[0m\u001b[0m\n",
      "\u001b[1;31mTypeError\u001b[0m: calculate_sum() missing 1 required keyword-only argument: 'number_1'"
     ]
    }
   ],
   "source": [
    "def calculate_sum(*numbers, number_1): # 不定參數要放最後面\n",
    "    sum_number = number_1\n",
    "    for number in numbers:\n",
    "        sum_number += number\n",
    "    return sum_number\n",
    "\n",
    "sum_number = calculate_sum(1,2,3)\n",
    "sum_number"
   ]
  },
  {
   "cell_type": "markdown",
   "metadata": {
    "slideshow": {
     "slide_type": "subslide"
    }
   },
   "source": [
    "#### 預設參數\n",
    " - 遇到沒有輸入參數時，程式自動給參數\n",
    " - 預設參數須放至後方"
   ]
  },
  {
   "cell_type": "code",
   "execution_count": 16,
   "metadata": {},
   "outputs": [
    {
     "data": {
      "text/plain": [
       "6"
      ]
     },
     "execution_count": 16,
     "metadata": {},
     "output_type": "execute_result"
    }
   ],
   "source": [
    "def calculate_sum(number1=1, number2=2, number3=3):\n",
    "    sum_number = 0\n",
    "    sum_number += number1\n",
    "    sum_number += number2\n",
    "    sum_number += number3\n",
    "    return sum_number\n",
    "\n",
    "sum_number = calculate_sum()\n",
    "sum_number"
   ]
  },
  {
   "cell_type": "code",
   "execution_count": 17,
   "metadata": {
    "slideshow": {
     "slide_type": "subslide"
    }
   },
   "outputs": [
    {
     "data": {
      "text/plain": [
       "7"
      ]
     },
     "execution_count": 17,
     "metadata": {},
     "output_type": "execute_result"
    }
   ],
   "source": [
    "def calculate_sum(number1=1, number2=2, number3=3):\n",
    "    sum_number = 0\n",
    "    sum_number += number1\n",
    "    sum_number += number2\n",
    "    sum_number += number3\n",
    "    return sum_number\n",
    "\n",
    "sum_number = calculate_sum(2)\n",
    "sum_number"
   ]
  },
  {
   "cell_type": "code",
   "execution_count": 19,
   "metadata": {
    "slideshow": {
     "slide_type": "subslide"
    }
   },
   "outputs": [
    {
     "data": {
      "text/plain": [
       "8"
      ]
     },
     "execution_count": 19,
     "metadata": {},
     "output_type": "execute_result"
    }
   ],
   "source": [
    "def calculate_sum(number1=1, number2=2, number3=3):\n",
    "    sum_number = 0\n",
    "    sum_number += number1\n",
    "    sum_number += number2\n",
    "    sum_number += number3\n",
    "    return sum_number\n",
    "\n",
    "sum_number = calculate_sum(number3=5)\n",
    "sum_number"
   ]
  },
  {
   "cell_type": "code",
   "execution_count": 20,
   "metadata": {
    "slideshow": {
     "slide_type": "subslide"
    }
   },
   "outputs": [
    {
     "ename": "SyntaxError",
     "evalue": "non-default argument follows default argument (<ipython-input-20-0257135cf63c>, line 1)",
     "output_type": "error",
     "traceback": [
      "\u001b[1;36m  File \u001b[1;32m\"<ipython-input-20-0257135cf63c>\"\u001b[1;36m, line \u001b[1;32m1\u001b[0m\n\u001b[1;33m    def calculate_sum(number1=1, number2=2, number3):\u001b[0m\n\u001b[1;37m                     ^\u001b[0m\n\u001b[1;31mSyntaxError\u001b[0m\u001b[1;31m:\u001b[0m non-default argument follows default argument\n"
     ]
    }
   ],
   "source": [
    "def calculate_sum(number1=1, number2=2, number3):\n",
    "    sum_number = 0\n",
    "    sum_number += number1\n",
    "    sum_number += number2\n",
    "    sum_number += number3\n",
    "    return sum_number\n",
    "\n",
    "sum_number = calculate_sum(number3=5)\n",
    "sum_number"
   ]
  },
  {
   "cell_type": "markdown",
   "metadata": {
    "slideshow": {
     "slide_type": "subslide"
    }
   },
   "source": [
    "### Return\n",
    " - 要傳回值時，記得要加 return，\n",
    " - 如果傳回值需要保存，記得要指定給一個變數\n",
    " - 程式遇到 return 就停止執行後面的函式內容"
   ]
  },
  {
   "cell_type": "markdown",
   "metadata": {
    "slideshow": {
     "slide_type": "subslide"
    }
   },
   "source": [
    "判斷輸入值是否為正數，是的話回傳 True，不是的話回傳 False"
   ]
  },
  {
   "cell_type": "code",
   "execution_count": 23,
   "metadata": {},
   "outputs": [
    {
     "data": {
      "text/plain": [
       "False"
      ]
     },
     "execution_count": 23,
     "metadata": {},
     "output_type": "execute_result"
    }
   ],
   "source": [
    "def is_positive(x):\n",
    "    if x > 0:\n",
    "        return True\n",
    "    return False\n",
    "TF = is_positive(-3)\n",
    "TF"
   ]
  },
  {
   "cell_type": "markdown",
   "metadata": {
    "slideshow": {
     "slide_type": "subslide"
    }
   },
   "source": [
    "可以同時 return 多個資料"
   ]
  },
  {
   "cell_type": "code",
   "execution_count": 24,
   "metadata": {},
   "outputs": [
    {
     "name": "stdout",
     "output_type": "stream",
     "text": [
      "6 1\n"
     ]
    }
   ],
   "source": [
    "def calculate_sum(number1, number2, number3):\n",
    "    sum_number = 0\n",
    "    sum_number += number1\n",
    "    sum_number += number2\n",
    "    sum_number += number3\n",
    "    return sum_number, number1\n",
    "\n",
    "sum_number, number1 = calculate_sum(1,2,3)\n",
    "print(sum_number, number1)"
   ]
  },
  {
   "cell_type": "markdown",
   "metadata": {
    "slideshow": {
     "slide_type": "subslide"
    }
   },
   "source": [
    "### 全域變數 (Global variable) 與 區域變數 (Local variable)\n",
    " - 函式裡面宣告的變數為區域變數，出了函式就見光死\n",
    " - 函式外的變數為全域變數，函式可以拿來用"
   ]
  },
  {
   "cell_type": "markdown",
   "metadata": {
    "slideshow": {
     "slide_type": "subslide"
    }
   },
   "source": [
    "製作一個計算平均值的函式"
   ]
  },
  {
   "cell_type": "code",
   "execution_count": 25,
   "metadata": {},
   "outputs": [
    {
     "data": {
      "text/plain": [
       "2.0"
      ]
     },
     "execution_count": 25,
     "metadata": {},
     "output_type": "execute_result"
    }
   ],
   "source": [
    "def calculate_mean(x1, x2, x3):\n",
    "    total = 0\n",
    "    total += x1\n",
    "    total += x2\n",
    "    total += x3\n",
    "    mean = total / 3\n",
    "    return mean\n",
    "mean = calculate_mean(1,2,3)\n",
    "mean"
   ]
  },
  {
   "cell_type": "code",
   "execution_count": 26,
   "metadata": {},
   "outputs": [
    {
     "ename": "NameError",
     "evalue": "name 'total' is not defined",
     "output_type": "error",
     "traceback": [
      "\u001b[1;31m---------------------------------------------------------------------------\u001b[0m",
      "\u001b[1;31mNameError\u001b[0m                                 Traceback (most recent call last)",
      "\u001b[1;32m<ipython-input-26-f5f7acea0338>\u001b[0m in \u001b[0;36m<module>\u001b[1;34m()\u001b[0m\n\u001b[1;32m----> 1\u001b[1;33m \u001b[0mtotal\u001b[0m\u001b[1;33m\u001b[0m\u001b[0m\n\u001b[0m",
      "\u001b[1;31mNameError\u001b[0m: name 'total' is not defined"
     ]
    }
   ],
   "source": [
    "total"
   ]
  },
  {
   "cell_type": "code",
   "execution_count": 28,
   "metadata": {
    "slideshow": {
     "slide_type": "subslide"
    }
   },
   "outputs": [
    {
     "data": {
      "text/plain": [
       "2.0"
      ]
     },
     "execution_count": 28,
     "metadata": {},
     "output_type": "execute_result"
    }
   ],
   "source": [
    "total = 0\n",
    "\n",
    "def calculate_mean(x1, x2, x3):\n",
    "    global total\n",
    "    total += x1\n",
    "    total += x2\n",
    "    total += x3\n",
    "    mean = total / 3\n",
    "    return mean\n",
    "mean = calculate_mean(1,2,3)\n",
    "mean"
   ]
  },
  {
   "cell_type": "code",
   "execution_count": 29,
   "metadata": {},
   "outputs": [
    {
     "data": {
      "text/plain": [
       "6"
      ]
     },
     "execution_count": 29,
     "metadata": {},
     "output_type": "execute_result"
    }
   ],
   "source": [
    "total"
   ]
  },
  {
   "cell_type": "markdown",
   "metadata": {
    "slideshow": {
     "slide_type": "subslide"
    }
   },
   "source": [
    "### Reference\n",
    " - https://www.w3schools.com/python/python_functions.asp\n",
    " - https://www.runoob.com/python/python-functions.html"
   ]
  },
  {
   "cell_type": "markdown",
   "metadata": {
    "slideshow": {
     "slide_type": "slide"
    }
   },
   "source": [
    "## Numpy\n",
    "> Numpy 簡介<br>\n",
    "> Numpy Array 的基本操作<br>\n",
    "> Numpy Array 的合併與切割<br>\n",
    "> Numpy Array 的運算<br>\n",
    "> Numpy Array 的屬性<br>\n",
    "> Numpy Array 資料讀寫"
   ]
  },
  {
   "cell_type": "markdown",
   "metadata": {
    "slideshow": {
     "slide_type": "subslide"
    }
   },
   "source": [
    "### Numpy 簡介\n",
    " - 資料科學和機器學習常用的資料結構\n",
    " - 裝載相同類型資料的多維陣列\n",
    " - 較 List 高效且擁有多項功能，使用上須注意與 List 的差異\n",
    " - shape：資料維度, ex. (2,3) 代表 2x3 的矩陣\n",
    " - dtype：資料型態, 陣列中元素的型態\n",
    " - 使用前須先導入 numpy 函式庫"
   ]
  },
  {
   "cell_type": "markdown",
   "metadata": {
    "slideshow": {
     "slide_type": "subslide"
    }
   },
   "source": [
    "導入 Numpy 函式庫"
   ]
  },
  {
   "cell_type": "code",
   "execution_count": 30,
   "metadata": {},
   "outputs": [],
   "source": [
    "import numpy as np"
   ]
  },
  {
   "cell_type": "markdown",
   "metadata": {
    "slideshow": {
     "slide_type": "subslide"
    }
   },
   "source": [
    "### Numpy Array 的基本操作\n",
    "> 建立 Numpy Array<br>\n",
    "> 取得 Numpy Array 的值<br>\n",
    "> 修改 Numpy Array 的值<br>\n",
    "> 刪除 Numpy Array 的值<br>\n",
    "> 新增 Numpy Array 的值"
   ]
  },
  {
   "cell_type": "markdown",
   "metadata": {
    "slideshow": {
     "slide_type": "subslide"
    }
   },
   "source": [
    "#### 建立 Numpy Array"
   ]
  },
  {
   "cell_type": "markdown",
   "metadata": {
    "slideshow": {
     "slide_type": "subslide"
    }
   },
   "source": [
    "使用 List 建立 Array => np.array ( List )"
   ]
  },
  {
   "cell_type": "code",
   "execution_count": 31,
   "metadata": {},
   "outputs": [
    {
     "data": {
      "text/plain": [
       "array([1, 2, 3])"
      ]
     },
     "execution_count": 31,
     "metadata": {},
     "output_type": "execute_result"
    }
   ],
   "source": [
    "# 一維 Array\n",
    "one_dim = np.array([1,2,3])\n",
    "one_dim"
   ]
  },
  {
   "cell_type": "code",
   "execution_count": 32,
   "metadata": {},
   "outputs": [],
   "source": [
    "# 二維 Array\n",
    "two_dim = np.array([[1,2,3],[1,2,3]])"
   ]
  },
  {
   "cell_type": "code",
   "execution_count": 33,
   "metadata": {
    "scrolled": true
   },
   "outputs": [],
   "source": [
    "# 三維 Array\n",
    "three_dim = np.array([[[1,2,3],[1,2,3]],[[1,2,3],[1,2,3]]])"
   ]
  },
  {
   "cell_type": "markdown",
   "metadata": {
    "slideshow": {
     "slide_type": "subslide"
    }
   },
   "source": [
    "建立全為 0 的 Array => np.zeros ( shape )"
   ]
  },
  {
   "cell_type": "code",
   "execution_count": 34,
   "metadata": {},
   "outputs": [
    {
     "data": {
      "text/plain": [
       "array([[[0., 0., 0., 0.],\n",
       "        [0., 0., 0., 0.],\n",
       "        [0., 0., 0., 0.]],\n",
       "\n",
       "       [[0., 0., 0., 0.],\n",
       "        [0., 0., 0., 0.],\n",
       "        [0., 0., 0., 0.]]])"
      ]
     },
     "execution_count": 34,
     "metadata": {},
     "output_type": "execute_result"
    }
   ],
   "source": [
    "zero_array = np.zeros((2,3,4))\n",
    "zero_array"
   ]
  },
  {
   "cell_type": "markdown",
   "metadata": {
    "slideshow": {
     "slide_type": "subslide"
    }
   },
   "source": [
    "建立全為 1 的 Array => np.ones ( shape )"
   ]
  },
  {
   "cell_type": "code",
   "execution_count": 35,
   "metadata": {},
   "outputs": [
    {
     "data": {
      "text/plain": [
       "array([[1., 1., 1.],\n",
       "       [1., 1., 1.]])"
      ]
     },
     "execution_count": 35,
     "metadata": {},
     "output_type": "execute_result"
    }
   ],
   "source": [
    "one_array = np.ones((2,3))\n",
    "one_array"
   ]
  },
  {
   "cell_type": "markdown",
   "metadata": {
    "slideshow": {
     "slide_type": "subslide"
    }
   },
   "source": [
    "建立指定數值的 Array => np.full ( shape, number )"
   ]
  },
  {
   "cell_type": "code",
   "execution_count": 36,
   "metadata": {},
   "outputs": [
    {
     "data": {
      "text/plain": [
       "array([[8, 8, 8],\n",
       "       [8, 8, 8]])"
      ]
     },
     "execution_count": 36,
     "metadata": {},
     "output_type": "execute_result"
    }
   ],
   "source": [
    "eight_array = np.full((2,3),8)\n",
    "eight_array"
   ]
  },
  {
   "cell_type": "markdown",
   "metadata": {
    "slideshow": {
     "slide_type": "subslide"
    }
   },
   "source": [
    "建立有序數列的 Array => np.arange( start_value, end_value, skip )"
   ]
  },
  {
   "cell_type": "code",
   "execution_count": 39,
   "metadata": {},
   "outputs": [
    {
     "data": {
      "text/plain": [
       "array([1, 3, 5, 7, 9])"
      ]
     },
     "execution_count": 39,
     "metadata": {},
     "output_type": "execute_result"
    }
   ],
   "source": [
    "order_array = np.arange(1,10,2)\n",
    "order_array"
   ]
  },
  {
   "cell_type": "markdown",
   "metadata": {
    "slideshow": {
     "slide_type": "subslide"
    }
   },
   "source": [
    "建立亂數 Array => np.random.random ( shape )"
   ]
  },
  {
   "cell_type": "code",
   "execution_count": 41,
   "metadata": {},
   "outputs": [
    {
     "data": {
      "text/plain": [
       "array([[0.74386109, 0.79823134, 0.03924752],\n",
       "       [0.91107321, 0.82922835, 0.98252663]])"
      ]
     },
     "execution_count": 41,
     "metadata": {},
     "output_type": "execute_result"
    }
   ],
   "source": [
    "random_array =  np.random.random((2,3))\n",
    "random_array"
   ]
  },
  {
   "cell_type": "markdown",
   "metadata": {
    "slideshow": {
     "slide_type": "subslide"
    }
   },
   "source": [
    "#### 取得 Numpy Array 的值"
   ]
  },
  {
   "cell_type": "markdown",
   "metadata": {
    "slideshow": {
     "slide_type": "subslide"
    }
   },
   "source": [
    "Array [ index ]"
   ]
  },
  {
   "cell_type": "code",
   "execution_count": 42,
   "metadata": {},
   "outputs": [
    {
     "data": {
      "text/plain": [
       "3"
      ]
     },
     "execution_count": 42,
     "metadata": {},
     "output_type": "execute_result"
    }
   ],
   "source": [
    "one_dim[2]"
   ]
  },
  {
   "cell_type": "code",
   "execution_count": 44,
   "metadata": {},
   "outputs": [
    {
     "data": {
      "text/plain": [
       "2"
      ]
     },
     "execution_count": 44,
     "metadata": {},
     "output_type": "execute_result"
    }
   ],
   "source": [
    "two_dim[1,1]"
   ]
  },
  {
   "cell_type": "markdown",
   "metadata": {
    "slideshow": {
     "slide_type": "subslide"
    }
   },
   "source": [
    "Array [ index1 : index2 ]"
   ]
  },
  {
   "cell_type": "code",
   "execution_count": 45,
   "metadata": {},
   "outputs": [
    {
     "data": {
      "text/plain": [
       "array([1, 2])"
      ]
     },
     "execution_count": 45,
     "metadata": {},
     "output_type": "execute_result"
    }
   ],
   "source": [
    "one_dim[0:2]"
   ]
  },
  {
   "cell_type": "code",
   "execution_count": 52,
   "metadata": {},
   "outputs": [
    {
     "data": {
      "text/plain": [
       "array([[1, 2],\n",
       "       [1, 2]])"
      ]
     },
     "execution_count": 52,
     "metadata": {},
     "output_type": "execute_result"
    }
   ],
   "source": [
    "two_dim[:,:2]"
   ]
  },
  {
   "cell_type": "markdown",
   "metadata": {
    "slideshow": {
     "slide_type": "subslide"
    }
   },
   "source": [
    "Array [ condition ]"
   ]
  },
  {
   "cell_type": "code",
   "execution_count": 53,
   "metadata": {},
   "outputs": [
    {
     "data": {
      "text/plain": [
       "array([2, 3])"
      ]
     },
     "execution_count": 53,
     "metadata": {},
     "output_type": "execute_result"
    }
   ],
   "source": [
    "one_dim[ one_dim > 1 ]"
   ]
  },
  {
   "cell_type": "code",
   "execution_count": 55,
   "metadata": {},
   "outputs": [
    {
     "data": {
      "text/plain": [
       "array([2, 3, 2, 3])"
      ]
     },
     "execution_count": 55,
     "metadata": {},
     "output_type": "execute_result"
    }
   ],
   "source": [
    "two_dim[two_dim>1]"
   ]
  },
  {
   "cell_type": "markdown",
   "metadata": {
    "slideshow": {
     "slide_type": "subslide"
    }
   },
   "source": [
    "#### 修改 Numpy Array 的值"
   ]
  },
  {
   "cell_type": "markdown",
   "metadata": {},
   "source": [
    "Array [ index ] = value"
   ]
  },
  {
   "cell_type": "code",
   "execution_count": 58,
   "metadata": {},
   "outputs": [
    {
     "data": {
      "text/plain": [
       "array([[1, 2, 3],\n",
       "       [1, 2, 9]])"
      ]
     },
     "execution_count": 58,
     "metadata": {},
     "output_type": "execute_result"
    }
   ],
   "source": [
    "two_dim[1,2] = 9\n",
    "two_dim"
   ]
  },
  {
   "cell_type": "markdown",
   "metadata": {
    "slideshow": {
     "slide_type": "subslide"
    }
   },
   "source": [
    "#### 刪除 Numpy Array 的值"
   ]
  },
  {
   "cell_type": "markdown",
   "metadata": {},
   "source": [
    "np.delete ( Array, [ index ] )"
   ]
  },
  {
   "cell_type": "code",
   "execution_count": 101,
   "metadata": {},
   "outputs": [
    {
     "data": {
      "text/plain": [
       "array([[2],\n",
       "       [2]])"
      ]
     },
     "execution_count": 101,
     "metadata": {},
     "output_type": "execute_result"
    }
   ],
   "source": [
    "np.delete(two_dim,[0,2],axis=1)"
   ]
  },
  {
   "cell_type": "markdown",
   "metadata": {
    "slideshow": {
     "slide_type": "subslide"
    }
   },
   "source": [
    "#### 新增 Numpy Array 的值"
   ]
  },
  {
   "cell_type": "markdown",
   "metadata": {},
   "source": [
    "np.insert ( Array, index, value )"
   ]
  },
  {
   "cell_type": "code",
   "execution_count": 67,
   "metadata": {},
   "outputs": [
    {
     "data": {
      "text/plain": [
       "array([9, 9, 2, 3])"
      ]
     },
     "execution_count": 67,
     "metadata": {},
     "output_type": "execute_result"
    }
   ],
   "source": [
    "one_dim = np.insert(one_dim,0,9)\n",
    "one_dim"
   ]
  },
  {
   "cell_type": "markdown",
   "metadata": {
    "slideshow": {
     "slide_type": "subslide"
    }
   },
   "source": [
    "np.append ( Array, value )"
   ]
  },
  {
   "cell_type": "code",
   "execution_count": 68,
   "metadata": {},
   "outputs": [
    {
     "data": {
      "text/plain": [
       "array([9, 9, 2, 3, 8])"
      ]
     },
     "execution_count": 68,
     "metadata": {},
     "output_type": "execute_result"
    }
   ],
   "source": [
    "np.append(one_dim, 8)"
   ]
  },
  {
   "cell_type": "markdown",
   "metadata": {},
   "source": [
    "np.append ( Array1, Array2 )"
   ]
  },
  {
   "cell_type": "code",
   "execution_count": 69,
   "metadata": {},
   "outputs": [
    {
     "data": {
      "text/plain": [
       "array([9, 9, 2, 3, 9, 8, 7])"
      ]
     },
     "execution_count": 69,
     "metadata": {},
     "output_type": "execute_result"
    }
   ],
   "source": [
    "array1 = np.array([9,8,7])\n",
    "np.append(one_dim,array1)"
   ]
  },
  {
   "cell_type": "markdown",
   "metadata": {
    "slideshow": {
     "slide_type": "subslide"
    }
   },
   "source": [
    "### Numpy Array 的合併與切割"
   ]
  },
  {
   "cell_type": "markdown",
   "metadata": {
    "slideshow": {
     "slide_type": "subslide"
    }
   },
   "source": [
    " - 垂直方向合併：np.vstack ( ( Array1, Array2 ) )\n",
    " - 水平方向合併：np.hstack ( ( Array1, Array2 ) )"
   ]
  },
  {
   "cell_type": "code",
   "execution_count": 71,
   "metadata": {},
   "outputs": [
    {
     "data": {
      "text/plain": [
       "array([[1, 2, 3],\n",
       "       [4, 5, 6],\n",
       "       [7, 8, 9],\n",
       "       [9, 8, 7]])"
      ]
     },
     "execution_count": 71,
     "metadata": {},
     "output_type": "execute_result"
    }
   ],
   "source": [
    "array1 = np.array([[1,2,3],[4,5,6]])\n",
    "array2 = np.array([[7,8,9],[9,8,7]])\n",
    "np.vstack((array1,array2))"
   ]
  },
  {
   "cell_type": "code",
   "execution_count": 72,
   "metadata": {},
   "outputs": [
    {
     "data": {
      "text/plain": [
       "array([[1, 2, 3, 7, 8, 9],\n",
       "       [4, 5, 6, 9, 8, 7]])"
      ]
     },
     "execution_count": 72,
     "metadata": {},
     "output_type": "execute_result"
    }
   ],
   "source": [
    "np.hstack((array1,array2))"
   ]
  },
  {
   "cell_type": "markdown",
   "metadata": {
    "slideshow": {
     "slide_type": "subslide"
    }
   },
   "source": [
    " - 垂直方向合併：np.concatenate ( ( Array1, Array2 ), axis = 0 )\n",
    " - 水平方向合併：np.concatenate ( ( Array1, Array2 ), axis = 1 )"
   ]
  },
  {
   "cell_type": "code",
   "execution_count": 73,
   "metadata": {},
   "outputs": [
    {
     "data": {
      "text/plain": [
       "array([[1, 2, 3],\n",
       "       [4, 5, 6],\n",
       "       [7, 8, 9],\n",
       "       [9, 8, 7]])"
      ]
     },
     "execution_count": 73,
     "metadata": {},
     "output_type": "execute_result"
    }
   ],
   "source": [
    "np.concatenate((array1,array2),axis=0)"
   ]
  },
  {
   "cell_type": "code",
   "execution_count": 74,
   "metadata": {},
   "outputs": [
    {
     "data": {
      "text/plain": [
       "array([[1, 2, 3, 7, 8, 9],\n",
       "       [4, 5, 6, 9, 8, 7]])"
      ]
     },
     "execution_count": 74,
     "metadata": {},
     "output_type": "execute_result"
    }
   ],
   "source": [
    "np.concatenate((array1,array2),axis=1)"
   ]
  },
  {
   "cell_type": "markdown",
   "metadata": {
    "slideshow": {
     "slide_type": "subslide"
    }
   },
   "source": [
    " - 垂直方向分割：np.vsplit ( Array, section )\n",
    " - 水平方向分割：np.hsplit ( Array, section )"
   ]
  },
  {
   "cell_type": "code",
   "execution_count": 79,
   "metadata": {},
   "outputs": [
    {
     "data": {
      "text/plain": [
       "[array([[1, 2, 3]]), array([[4, 5, 6]])]"
      ]
     },
     "execution_count": 79,
     "metadata": {},
     "output_type": "execute_result"
    }
   ],
   "source": [
    "np.vsplit(array1,2)"
   ]
  },
  {
   "cell_type": "code",
   "execution_count": 82,
   "metadata": {},
   "outputs": [
    {
     "data": {
      "text/plain": [
       "[array([[1],\n",
       "        [4]]), array([[2],\n",
       "        [5]]), array([[3],\n",
       "        [6]])]"
      ]
     },
     "execution_count": 82,
     "metadata": {},
     "output_type": "execute_result"
    }
   ],
   "source": [
    "np.hsplit(array1,3)"
   ]
  },
  {
   "cell_type": "markdown",
   "metadata": {
    "slideshow": {
     "slide_type": "subslide"
    }
   },
   "source": [
    "### Numpy Array 的運算"
   ]
  },
  {
   "cell_type": "markdown",
   "metadata": {
    "slideshow": {
     "slide_type": "subslide"
    }
   },
   "source": [
    "Array1 + Array2"
   ]
  },
  {
   "cell_type": "code",
   "execution_count": 86,
   "metadata": {},
   "outputs": [
    {
     "data": {
      "text/plain": [
       "array([5, 7, 9])"
      ]
     },
     "execution_count": 86,
     "metadata": {},
     "output_type": "execute_result"
    }
   ],
   "source": [
    "array1 = np.array([1,2,3])\n",
    "array2 = np.array([4,5,6])\n",
    "array1+array2"
   ]
  },
  {
   "cell_type": "code",
   "execution_count": 83,
   "metadata": {},
   "outputs": [
    {
     "data": {
      "text/plain": [
       "[1, 2, 3, 4, 5, 6]"
      ]
     },
     "execution_count": 83,
     "metadata": {},
     "output_type": "execute_result"
    }
   ],
   "source": [
    "list1 = [1,2,3]\n",
    "list2 = [4,5,6]\n",
    "list1+list2"
   ]
  },
  {
   "cell_type": "markdown",
   "metadata": {
    "slideshow": {
     "slide_type": "subslide"
    }
   },
   "source": [
    "Array1 - Array2"
   ]
  },
  {
   "cell_type": "code",
   "execution_count": 87,
   "metadata": {},
   "outputs": [
    {
     "data": {
      "text/plain": [
       "array([-3, -3, -3])"
      ]
     },
     "execution_count": 87,
     "metadata": {},
     "output_type": "execute_result"
    }
   ],
   "source": [
    "array1-array2"
   ]
  },
  {
   "cell_type": "markdown",
   "metadata": {
    "slideshow": {
     "slide_type": "subslide"
    }
   },
   "source": [
    "Array1 * Array2"
   ]
  },
  {
   "cell_type": "code",
   "execution_count": 88,
   "metadata": {},
   "outputs": [
    {
     "data": {
      "text/plain": [
       "array([ 4, 10, 18])"
      ]
     },
     "execution_count": 88,
     "metadata": {},
     "output_type": "execute_result"
    }
   ],
   "source": [
    "array1*array2"
   ]
  },
  {
   "cell_type": "code",
   "execution_count": 89,
   "metadata": {},
   "outputs": [
    {
     "data": {
      "text/plain": [
       "[1, 2, 3, 1, 2, 3, 1, 2, 3]"
      ]
     },
     "execution_count": 89,
     "metadata": {},
     "output_type": "execute_result"
    }
   ],
   "source": [
    "list1 * 3"
   ]
  },
  {
   "cell_type": "markdown",
   "metadata": {
    "slideshow": {
     "slide_type": "subslide"
    }
   },
   "source": [
    "Array1 / Array2"
   ]
  },
  {
   "cell_type": "code",
   "execution_count": 90,
   "metadata": {},
   "outputs": [
    {
     "data": {
      "text/plain": [
       "array([0.25, 0.4 , 0.5 ])"
      ]
     },
     "execution_count": 90,
     "metadata": {},
     "output_type": "execute_result"
    }
   ],
   "source": [
    "array1/array2"
   ]
  },
  {
   "cell_type": "markdown",
   "metadata": {
    "slideshow": {
     "slide_type": "subslide"
    }
   },
   "source": [
    "Array1 == Array2"
   ]
  },
  {
   "cell_type": "code",
   "execution_count": 91,
   "metadata": {},
   "outputs": [
    {
     "data": {
      "text/plain": [
       "array([False, False, False])"
      ]
     },
     "execution_count": 91,
     "metadata": {},
     "output_type": "execute_result"
    }
   ],
   "source": [
    "array1 == array2"
   ]
  },
  {
   "cell_type": "markdown",
   "metadata": {
    "slideshow": {
     "slide_type": "fragment"
    }
   },
   "source": [
    "np.array_equal ( Array1, Array2 )"
   ]
  },
  {
   "cell_type": "code",
   "execution_count": 92,
   "metadata": {},
   "outputs": [
    {
     "data": {
      "text/plain": [
       "False"
      ]
     },
     "execution_count": 92,
     "metadata": {},
     "output_type": "execute_result"
    }
   ],
   "source": [
    "np.array_equal(array1,array2)"
   ]
  },
  {
   "cell_type": "markdown",
   "metadata": {
    "slideshow": {
     "slide_type": "subslide"
    }
   },
   "source": [
    "np.sqrt ( Array )"
   ]
  },
  {
   "cell_type": "code",
   "execution_count": 93,
   "metadata": {},
   "outputs": [
    {
     "data": {
      "text/plain": [
       "array([1.        , 1.41421356, 1.73205081])"
      ]
     },
     "execution_count": 93,
     "metadata": {},
     "output_type": "execute_result"
    }
   ],
   "source": [
    "np.sqrt(array1)"
   ]
  },
  {
   "cell_type": "markdown",
   "metadata": {
    "slideshow": {
     "slide_type": "-"
    }
   },
   "source": [
    "np.log ( Array )"
   ]
  },
  {
   "cell_type": "code",
   "execution_count": 94,
   "metadata": {},
   "outputs": [
    {
     "data": {
      "text/plain": [
       "array([0.        , 0.69314718, 1.09861229])"
      ]
     },
     "execution_count": 94,
     "metadata": {},
     "output_type": "execute_result"
    }
   ],
   "source": [
    "np.log(array1)"
   ]
  },
  {
   "cell_type": "markdown",
   "metadata": {
    "slideshow": {
     "slide_type": "subslide"
    }
   },
   "source": [
    "Array.sum ( )"
   ]
  },
  {
   "cell_type": "markdown",
   "metadata": {},
   "source": [
    "Array.sum ( axis = 0 )"
   ]
  },
  {
   "cell_type": "markdown",
   "metadata": {},
   "source": [
    "Array.sum ( axis = 1 )"
   ]
  },
  {
   "cell_type": "code",
   "execution_count": 108,
   "metadata": {},
   "outputs": [
    {
     "data": {
      "text/plain": [
       "array([ 6, 12])"
      ]
     },
     "execution_count": 108,
     "metadata": {},
     "output_type": "execute_result"
    }
   ],
   "source": [
    "two_dim.sum(axis = 1)"
   ]
  },
  {
   "cell_type": "markdown",
   "metadata": {
    "slideshow": {
     "slide_type": "subslide"
    }
   },
   "source": [
    "Array.max ( )"
   ]
  },
  {
   "cell_type": "markdown",
   "metadata": {},
   "source": [
    "Array.max ( axis = 0 )"
   ]
  },
  {
   "cell_type": "markdown",
   "metadata": {},
   "source": [
    "Array.max ( axis = 1 )"
   ]
  },
  {
   "cell_type": "code",
   "execution_count": 110,
   "metadata": {},
   "outputs": [
    {
     "data": {
      "text/plain": [
       "array([1, 2, 9])"
      ]
     },
     "execution_count": 110,
     "metadata": {},
     "output_type": "execute_result"
    }
   ],
   "source": [
    "two_dim.max(axis = 0)"
   ]
  },
  {
   "cell_type": "markdown",
   "metadata": {
    "slideshow": {
     "slide_type": "subslide"
    }
   },
   "source": [
    "Array.mean ( )"
   ]
  },
  {
   "cell_type": "markdown",
   "metadata": {},
   "source": [
    "Array.mean ( axis = 0 )"
   ]
  },
  {
   "cell_type": "markdown",
   "metadata": {},
   "source": [
    "Array.mean ( axis = 1 )"
   ]
  },
  {
   "cell_type": "code",
   "execution_count": 112,
   "metadata": {},
   "outputs": [
    {
     "data": {
      "text/plain": [
       "array([2., 4.])"
      ]
     },
     "execution_count": 112,
     "metadata": {},
     "output_type": "execute_result"
    }
   ],
   "source": [
    "two_dim.mean(axis = 1)"
   ]
  },
  {
   "cell_type": "markdown",
   "metadata": {
    "slideshow": {
     "slide_type": "subslide"
    }
   },
   "source": [
    "另一種寫法：np.mean ( Array, axis = 0 )"
   ]
  },
  {
   "cell_type": "code",
   "execution_count": 113,
   "metadata": {},
   "outputs": [
    {
     "data": {
      "text/plain": [
       "array([1., 2., 6.])"
      ]
     },
     "execution_count": 113,
     "metadata": {},
     "output_type": "execute_result"
    }
   ],
   "source": [
    "np.mean(two_dim,axis=0)"
   ]
  },
  {
   "cell_type": "markdown",
   "metadata": {
    "slideshow": {
     "slide_type": "subslide"
    }
   },
   "source": [
    "### Numpy Array 的屬性"
   ]
  },
  {
   "cell_type": "markdown",
   "metadata": {
    "slideshow": {
     "slide_type": "subslide"
    }
   },
   "source": [
    "Array.ndim => Array 的 N 維"
   ]
  },
  {
   "cell_type": "code",
   "execution_count": 116,
   "metadata": {},
   "outputs": [
    {
     "data": {
      "text/plain": [
       "3"
      ]
     },
     "execution_count": 116,
     "metadata": {},
     "output_type": "execute_result"
    }
   ],
   "source": [
    "three_dim.ndim"
   ]
  },
  {
   "cell_type": "markdown",
   "metadata": {
    "slideshow": {
     "slide_type": "subslide"
    }
   },
   "source": [
    "Array.shape => Array 的維度"
   ]
  },
  {
   "cell_type": "code",
   "execution_count": 117,
   "metadata": {},
   "outputs": [
    {
     "data": {
      "text/plain": [
       "(2, 3)"
      ]
     },
     "execution_count": 117,
     "metadata": {},
     "output_type": "execute_result"
    }
   ],
   "source": [
    "two_dim.shape"
   ]
  },
  {
   "cell_type": "markdown",
   "metadata": {
    "slideshow": {
     "slide_type": "subslide"
    }
   },
   "source": [
    "np.reshape ( Array, shape )"
   ]
  },
  {
   "cell_type": "code",
   "execution_count": 121,
   "metadata": {},
   "outputs": [
    {
     "data": {
      "text/plain": [
       "array([[1, 2],\n",
       "       [3, 1],\n",
       "       [2, 9]])"
      ]
     },
     "execution_count": 121,
     "metadata": {},
     "output_type": "execute_result"
    }
   ],
   "source": [
    "np.reshape(two_dim, (3,2))"
   ]
  },
  {
   "cell_type": "markdown",
   "metadata": {
    "slideshow": {
     "slide_type": "subslide"
    }
   },
   "source": [
    "Array.size => Array 的元素個數"
   ]
  },
  {
   "cell_type": "code",
   "execution_count": 122,
   "metadata": {},
   "outputs": [
    {
     "data": {
      "text/plain": [
       "6"
      ]
     },
     "execution_count": 122,
     "metadata": {},
     "output_type": "execute_result"
    }
   ],
   "source": [
    "two_dim.size"
   ]
  },
  {
   "cell_type": "code",
   "execution_count": 123,
   "metadata": {},
   "outputs": [
    {
     "data": {
      "text/plain": [
       "2"
      ]
     },
     "execution_count": 123,
     "metadata": {},
     "output_type": "execute_result"
    }
   ],
   "source": [
    "len(two_dim)"
   ]
  },
  {
   "cell_type": "markdown",
   "metadata": {
    "slideshow": {
     "slide_type": "subslide"
    }
   },
   "source": [
    "np.resize ( Array, shape )"
   ]
  },
  {
   "cell_type": "code",
   "execution_count": 125,
   "metadata": {},
   "outputs": [
    {
     "data": {
      "text/plain": [
       "array([[1, 2, 3],\n",
       "       [1, 2, 9],\n",
       "       [1, 2, 3]])"
      ]
     },
     "execution_count": 125,
     "metadata": {},
     "output_type": "execute_result"
    }
   ],
   "source": [
    "np.resize(two_dim,(3,3))"
   ]
  },
  {
   "cell_type": "markdown",
   "metadata": {
    "slideshow": {
     "slide_type": "subslide"
    }
   },
   "source": [
    "Array.dtype"
   ]
  },
  {
   "cell_type": "code",
   "execution_count": 126,
   "metadata": {},
   "outputs": [
    {
     "data": {
      "text/plain": [
       "dtype('int32')"
      ]
     },
     "execution_count": 126,
     "metadata": {},
     "output_type": "execute_result"
    }
   ],
   "source": [
    "two_dim.dtype"
   ]
  },
  {
   "cell_type": "markdown",
   "metadata": {
    "slideshow": {
     "slide_type": "subslide"
    }
   },
   "source": [
    "Array.astype ( DataType )"
   ]
  },
  {
   "cell_type": "code",
   "execution_count": 127,
   "metadata": {},
   "outputs": [
    {
     "data": {
      "text/plain": [
       "array([[1., 2., 3.],\n",
       "       [1., 2., 9.]])"
      ]
     },
     "execution_count": 127,
     "metadata": {},
     "output_type": "execute_result"
    }
   ],
   "source": [
    "two_dim.astype(float)"
   ]
  },
  {
   "cell_type": "markdown",
   "metadata": {
    "slideshow": {
     "slide_type": "subslide"
    }
   },
   "source": [
    "### Numpy Array 資料讀寫 (I/O)"
   ]
  },
  {
   "cell_type": "markdown",
   "metadata": {
    "slideshow": {
     "slide_type": "subslide"
    }
   },
   "source": [
    "儲存 Numpy 資料格式檔案 => np.save ( file_name, Array )"
   ]
  },
  {
   "cell_type": "code",
   "execution_count": 128,
   "metadata": {},
   "outputs": [],
   "source": [
    "np.save ( \"two_dim\", two_dim )"
   ]
  },
  {
   "cell_type": "markdown",
   "metadata": {
    "slideshow": {
     "slide_type": "subslide"
    }
   },
   "source": [
    "讀取 Numpy 資料格式檔案 => np.load ( file_name )"
   ]
  },
  {
   "cell_type": "code",
   "execution_count": 131,
   "metadata": {},
   "outputs": [
    {
     "data": {
      "text/plain": [
       "array([[1, 2, 3],\n",
       "       [1, 2, 9]])"
      ]
     },
     "execution_count": 131,
     "metadata": {},
     "output_type": "execute_result"
    }
   ],
   "source": [
    "load_array = np.load('two_dim.npy')\n",
    "load_array"
   ]
  },
  {
   "cell_type": "markdown",
   "metadata": {
    "slideshow": {
     "slide_type": "subslide"
    }
   },
   "source": [
    "### Reference\n",
    " - https://numpy.org/\n",
    " - https://medium.com/python4u/hello-numpy-b5ebe67a1ada\n",
    " - http://cs231n.github.io/python-numpy-tutorial/"
   ]
  },
  {
   "cell_type": "markdown",
   "metadata": {
    "slideshow": {
     "slide_type": "subslide"
    }
   },
   "source": [
    "## Practice"
   ]
  },
  {
   "cell_type": "markdown",
   "metadata": {
    "slideshow": {
     "slide_type": "subslide"
    }
   },
   "source": [
    "請先 restart kernel，接著直接執行以下程式，程式結果將下載 score.npy 檔案"
   ]
  },
  {
   "cell_type": "code",
   "execution_count": 132,
   "metadata": {},
   "outputs": [
    {
     "data": {
      "text/plain": [
       "('score.npy', <http.client.HTTPMessage at 0x20d7e54d9e8>)"
      ]
     },
     "execution_count": 132,
     "metadata": {},
     "output_type": "execute_result"
    }
   ],
   "source": [
    "from urllib.request import urlretrieve\n",
    "url = 'https://drive.google.com/uc?export=download&id=1RQTtrzS5tUyzDqnK008L6mWoadEEkf5Q'\n",
    "urlretrieve(url, \"score.npy\")"
   ]
  },
  {
   "cell_type": "markdown",
   "metadata": {
    "slideshow": {
     "slide_type": "subslide"
    }
   },
   "source": [
    "請用 numpy 讀取 score.npy 檔案，並將讀取結果指派給變數 score"
   ]
  },
  {
   "cell_type": "code",
   "execution_count": null,
   "metadata": {},
   "outputs": [],
   "source": []
  },
  {
   "cell_type": "markdown",
   "metadata": {
    "slideshow": {
     "slide_type": "subslide"
    }
   },
   "source": [
    "score 中依序紀錄了學生的姓名、國文成績、英文成績、數學成績，請問 score 中有多少個學生的資料 ?"
   ]
  },
  {
   "cell_type": "code",
   "execution_count": null,
   "metadata": {},
   "outputs": [],
   "source": []
  },
  {
   "cell_type": "markdown",
   "metadata": {
    "slideshow": {
     "slide_type": "subslide"
    }
   },
   "source": [
    "請刪除 score 中每筆資料的學生姓名"
   ]
  },
  {
   "cell_type": "code",
   "execution_count": null,
   "metadata": {},
   "outputs": [],
   "source": []
  },
  {
   "cell_type": "markdown",
   "metadata": {
    "slideshow": {
     "slide_type": "subslide"
    }
   },
   "source": [
    "請製作一個 Function 符合以下條件：\n",
    " - Function 名稱為 calculat_score_mean\n",
    " - 輸入參數為前題刪除完學生姓名的 score\n",
    " - 輸出為國文、英文、數學三個平均分數\n",
    " - 請使用製作好的 Function，print 出國文、英文、數學三個平均分數"
   ]
  },
  {
   "cell_type": "code",
   "execution_count": null,
   "metadata": {},
   "outputs": [],
   "source": []
  },
  {
   "cell_type": "markdown",
   "metadata": {
    "slideshow": {
     "slide_type": "subslide"
    }
   },
   "source": [
    "請下載成 `html 檔`，檔名為 `學號_姓名`，上傳到 my2 作業區 "
   ]
  }
 ],
 "metadata": {
  "celltoolbar": "Slideshow",
  "kernelspec": {
   "display_name": "Python 3",
   "language": "python",
   "name": "python3"
  },
  "language_info": {
   "codemirror_mode": {
    "name": "ipython",
    "version": 3
   },
   "file_extension": ".py",
   "mimetype": "text/x-python",
   "name": "python",
   "nbconvert_exporter": "python",
   "pygments_lexer": "ipython3",
   "version": "3.7.0"
  }
 },
 "nbformat": 4,
 "nbformat_minor": 2
}
