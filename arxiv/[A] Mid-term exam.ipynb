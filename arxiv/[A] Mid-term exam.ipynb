{
 "cells": [
  {
   "cell_type": "markdown",
   "metadata": {},
   "source": [
    "#### WillyPillow 正在學習 Python 程式設計，在安裝完 `Python3` 之後，寫了五個小程式，但寫完後不知道哪裡錯了，請幫他個忙，讓他的程式能夠正常運作。"
   ]
  },
  {
   "cell_type": "markdown",
   "metadata": {},
   "source": [
    "1. WillyPillow 想要撰寫一個英文星期轉換中文星期的程式，例如輸入『Monday』會輸出『星期一』。"
   ]
  },
  {
   "cell_type": "code",
   "execution_count": null,
   "metadata": {},
   "outputs": [],
   "source": [
    "day = input()\n",
    "\n",
    "if day = 'Monday'\n",
    "    print 星期一\n",
    "elif day = 'Tuesday'\n",
    "    print 星期二\n",
    "elif day = 'Wednesday'\n",
    "    print 星期三\n",
    "elif day = 'Thursday'\n",
    "    print 星期四\n",
    "elif day = 'Friday'\n",
    "    print 星期五\n",
    "elif day = 'Saturday'\n",
    "    print 星期六\n",
    "elif day = 'Sunday'\n",
    "    print 星期日"
   ]
  },
  {
   "cell_type": "code",
   "execution_count": null,
   "metadata": {},
   "outputs": [],
   "source": [
    "day = input()\n",
    "\n",
    "if day == 'Monday':\n",
    "    print ('星期一')\n",
    "elif day == 'Tuesday':\n",
    "    print ('星期二')\n",
    "elif day == 'Wednesday':\n",
    "    print ('星期三')\n",
    "elif day == 'Thursday':\n",
    "    print ('星期四')\n",
    "elif day == 'Friday':\n",
    "    print ('星期五')\n",
    "elif day == 'Saturday':\n",
    "    print ('星期六')\n",
    "elif day == 'Sunday':\n",
    "    print ('星期日')"
   ]
  },
  {
   "cell_type": "markdown",
   "metadata": {},
   "source": [
    "2. WillyPillow 想撰寫一個程式計算 1~20000 中所有偶數的總和。"
   ]
  },
  {
   "cell_type": "code",
   "execution_count": null,
   "metadata": {},
   "outputs": [],
   "source": [
    "for number in range(20000):\n",
    "    total = 0\n",
    "    if number % 2 == 0\n",
    "        total + number\n",
    "print total"
   ]
  },
  {
   "cell_type": "code",
   "execution_count": null,
   "metadata": {},
   "outputs": [],
   "source": [
    "total = 0\n",
    "for number in range(1,20001):\n",
    "    if number % 2 == 0:\n",
    "        total += number\n",
    "print (total)"
   ]
  },
  {
   "cell_type": "markdown",
   "metadata": {},
   "source": [
    "3. WillyPillow 想撰寫一個程式將一段文章用換行符號斷句，並判斷每個句子中是否有出現 WillyPillow 的名字。如句子中有出現 WillyPillow，則印出出現的次數，如未出現則不印出出現次數。"
   ]
  },
  {
   "cell_type": "code",
   "execution_count": null,
   "metadata": {},
   "outputs": [],
   "source": [
    "sentences = '''WillyPillow is learning Python.\n",
    "WillyPillow feels Python is fun.\n",
    "It needs time to improve Python.\n",
    "WillyPillow named his PC WillyPillow PC.\n",
    "WillyPillow WillyPillow WillyPillow ... do not hate WillyPillow'''\n",
    "\n",
    "for sentence in snetences.split():\n",
    "    if 'WillyPillow' in sentence:\n",
    "        words = sentence.split()\n",
    "    print sentence + '：出現 WillyPillow ' + words.count('WillyPillow') + ' 次'"
   ]
  },
  {
   "cell_type": "code",
   "execution_count": null,
   "metadata": {},
   "outputs": [],
   "source": [
    "sentences = '''WillyPillow is learning Python.\n",
    "WillyPillow feels Python is fun.\n",
    "It needs time to improve Python.\n",
    "WillyPillow named his PC WillyPillow PC.\n",
    "WillyPillow WillyPillow WillyPillow ... do not hate WillyPillow'''\n",
    "\n",
    "for sentence in sentences.split('\\n'):\n",
    "    if 'WillyPillow' in sentence:\n",
    "        words = sentence.split()\n",
    "        print (sentence + '：出現 WillyPillow ' + str(words.count('WillyPillow')) + ' 次')"
   ]
  },
  {
   "cell_type": "markdown",
   "metadata": {},
   "source": [
    "4. WillyPillow 想撰寫一個程式計算陣列 (List) 中數值的平均數。"
   ]
  },
  {
   "cell_type": "code",
   "execution_count": null,
   "metadata": {},
   "outputs": [],
   "source": [
    "numbers = [5,3,7,2,8]\n",
    "total = numbers.sum()\n",
    "mean = total / length(numbers)\n",
    "print mean"
   ]
  },
  {
   "cell_type": "code",
   "execution_count": null,
   "metadata": {},
   "outputs": [],
   "source": [
    "numbers = [5,3,7,2,8]\n",
    "total = sum(numbers)\n",
    "mean = total / len(numbers)\n",
    "print (mean)"
   ]
  },
  {
   "cell_type": "markdown",
   "metadata": {},
   "source": [
    "5. WillyPillow 想撰寫一個程式印出儲存於 Dictionary 的電影資料。"
   ]
  },
  {
   "cell_type": "code",
   "execution_count": null,
   "metadata": {},
   "outputs": [],
   "source": [
    "movie = {'name': 'Gemini Man', \n",
    "         'director': 'Ang Lee', \n",
    "         'Starring': 'Will Smith', \n",
    "         'Running time':117}\n",
    "for k,v in movie:\n",
    "    print k+'：'+v"
   ]
  },
  {
   "cell_type": "code",
   "execution_count": null,
   "metadata": {},
   "outputs": [],
   "source": [
    "movie = {'name': 'Gemini Man', \n",
    "         'director': 'Ang Lee', \n",
    "         'Starring': 'Will Smith', \n",
    "         'Running time':117}\n",
    "for k,v in movie.items():\n",
    "    print (k+'：'+str(v))"
   ]
  },
  {
   "cell_type": "code",
   "execution_count": null,
   "metadata": {},
   "outputs": [],
   "source": []
  }
 ],
 "metadata": {
  "kernelspec": {
   "display_name": "Python 3",
   "language": "python",
   "name": "python3"
  },
  "language_info": {
   "codemirror_mode": {
    "name": "ipython",
    "version": 3
   },
   "file_extension": ".py",
   "mimetype": "text/x-python",
   "name": "python",
   "nbconvert_exporter": "python",
   "pygments_lexer": "ipython3",
   "version": "3.7.0"
  }
 },
 "nbformat": 4,
 "nbformat_minor": 2
}
