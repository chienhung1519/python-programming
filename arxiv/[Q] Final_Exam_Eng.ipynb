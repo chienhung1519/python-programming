{
 "cells": [
  {
   "cell_type": "markdown",
   "metadata": {},
   "source": [
    "# Python Programming\n",
    "> Final Exam"
   ]
  },
  {
   "cell_type": "markdown",
   "metadata": {},
   "source": [
    "## Project 1：Air Quality analysis"
   ]
  },
  {
   "cell_type": "markdown",
   "metadata": {},
   "source": [
    "Run the following code, then you will download ATM00679_20191230173049.csv. The file is from [OpenData.epa](https://opendata.epa.gov.tw/)."
   ]
  },
  {
   "cell_type": "code",
   "execution_count": null,
   "metadata": {},
   "outputs": [],
   "source": [
    "from urllib.request import urlretrieve\n",
    "url = 'https://drive.google.com/uc?export=download&id=1lua5zOUUzev-9BZ3MLcp_2FJMDWfJ-DF'\n",
    "urlretrieve(url, \"ATM00679_20191230173049.csv\")"
   ]
  },
  {
   "cell_type": "markdown",
   "metadata": {},
   "source": [
    "ATM00679_20191230173049.csv columns explaination\n",
    " - SiteId：測站編號\n",
    " - SiteName：測站名稱\n",
    " - MonitorDate：監測日期\n",
    " - AQI：空氣品質指標\n",
    " - SO2SubIndex：二氧化硫副指標\n",
    " - COSubIndex：一氧化碳副指標\n",
    " - O3SubIndex：臭氧副指標\n",
    " - PM10SubIndex：懸浮微粒副指標\n",
    " - NO2SubIndex：二氧化氮副指標\n",
    " - O38SubIndex：臭氧8小時副指標\n",
    " - PM25SubIndex：細懸浮微粒副指標"
   ]
  },
  {
   "cell_type": "markdown",
   "metadata": {},
   "source": [
    "Import Pandas (1%)"
   ]
  },
  {
   "cell_type": "code",
   "execution_count": null,
   "metadata": {},
   "outputs": [],
   "source": []
  },
  {
   "cell_type": "markdown",
   "metadata": {},
   "source": [
    "Use Pandas to load ATM00679_20191230173049.csv, and assign the DataFrame to variable `air_quality`, and show the last five data (4%)"
   ]
  },
  {
   "cell_type": "code",
   "execution_count": null,
   "metadata": {},
   "outputs": [],
   "source": []
  },
  {
   "cell_type": "markdown",
   "metadata": {},
   "source": [
    "Print \"the length of air_quality is ? \" (2%)"
   ]
  },
  {
   "cell_type": "code",
   "execution_count": null,
   "metadata": {},
   "outputs": [],
   "source": []
  },
  {
   "cell_type": "markdown",
   "metadata": {},
   "source": [
    "Calculate the number of missing value of every column. (2%)"
   ]
  },
  {
   "cell_type": "code",
   "execution_count": null,
   "metadata": {},
   "outputs": [],
   "source": []
  },
  {
   "cell_type": "markdown",
   "metadata": {},
   "source": [
    "Remove the column which is of all missing value, and show the top five data. (2%)"
   ]
  },
  {
   "cell_type": "code",
   "execution_count": null,
   "metadata": {},
   "outputs": [],
   "source": []
  },
  {
   "cell_type": "markdown",
   "metadata": {},
   "source": [
    "Remove the rows containing missing value, and print \"the length of air_quality is ? after remove missing value\" (2%)"
   ]
  },
  {
   "cell_type": "code",
   "execution_count": null,
   "metadata": {},
   "outputs": [],
   "source": []
  },
  {
   "cell_type": "markdown",
   "metadata": {},
   "source": [
    "Calculate `Average AQI` in every area by SiteName column, and print \"the max value of average AQI appearing in ? \" (4%)"
   ]
  },
  {
   "cell_type": "code",
   "execution_count": null,
   "metadata": {},
   "outputs": [],
   "source": []
  },
  {
   "cell_type": "markdown",
   "metadata": {},
   "source": [
    "Access [\"AQI\", \"SO2SubIndex\", \"COSubIndex\", \"PM10SubIndex\", \"NO2SubIndex\", \"O38SubIndex\", \"PM25SubIndex\"] from air_quality, and assgin to varable `corr_data` (data type is also DataFrame) (2%)"
   ]
  },
  {
   "cell_type": "code",
   "execution_count": null,
   "metadata": {},
   "outputs": [],
   "source": []
  },
  {
   "cell_type": "markdown",
   "metadata": {},
   "source": [
    "Refer to [Pandas dataframe.corr()](https://www.geeksforgeeks.org/python-pandas-dataframe-corr/). Calculate the Pearson correlation coefficient matrix, and assign to variable `pearson_corr` (2%)"
   ]
  },
  {
   "cell_type": "code",
   "execution_count": null,
   "metadata": {},
   "outputs": [],
   "source": []
  },
  {
   "cell_type": "markdown",
   "metadata": {},
   "source": [
    "Find the max correlation coefficient with AQI, print \"the most relevant column with AQI is ? \" (do not print AQI itself) (4%)"
   ]
  },
  {
   "cell_type": "code",
   "execution_count": null,
   "metadata": {},
   "outputs": [],
   "source": []
  },
  {
   "cell_type": "markdown",
   "metadata": {},
   "source": [
    "## Project 2：Lyric analysis"
   ]
  },
  {
   "cell_type": "markdown",
   "metadata": {},
   "source": [
    "Run the following code, you will dowmload ntusd-positive (zh-tw).txt、ntusd-negative (zh-tw).txt、lyrics_cut_mayday.dataset。ntusd-positive (zh-tw).txt、ntusd-negative (zh-tw).txt is from [link](https://github.com/candlewill/Sentiment_Lexicons/tree/master/resources)；lyrics_cut_mayday.dataset is from [link](https://github.com/youngmihuang/lyrics_application/blob/master/dataset/lyrics_cut_mayday.dataset)。"
   ]
  },
  {
   "cell_type": "code",
   "execution_count": null,
   "metadata": {},
   "outputs": [],
   "source": [
    "from urllib.request import urlretrieve\n",
    "url = 'https://drive.google.com/uc?export=download&id=1wQTOqpDYCau_vL0LCfY-LuOKs6aXRAKL'\n",
    "urlretrieve(url, \"ntusd-positive (zh-tw).txt\")\n",
    "url = 'https://drive.google.com/uc?export=download&id=1CshwZlYgTTwpukk6JqlXEOMW4u1xRofK'\n",
    "urlretrieve(url, \"ntusd-negative (zh-tw).txt\")\n",
    "url = 'https://drive.google.com/uc?export=download&id=1W_6cD6T9zgQBnpfKX-3etpltH0Y6uIpd'\n",
    "urlretrieve(url, \"lyrics_cut_mayday.dataset\")"
   ]
  },
  {
   "cell_type": "markdown",
   "metadata": {},
   "source": [
    "dataset introduction\n",
    " - ntusd-positive (zh-tw).txt：words about positive sentiment in traditional chinese \n",
    " - ntusd-negative (zh-tw).txt：words about negative sentiment in traditional chinese \n",
    " - lyrics_cut_mayday.dataset：36 Mayday tokened lyrics"
   ]
  },
  {
   "cell_type": "markdown",
   "metadata": {},
   "source": [
    "Use open() to load the above three files, and assign to variables `positive`, `negative` and `lyrics` after sentence segmentation. (3%)"
   ]
  },
  {
   "cell_type": "code",
   "execution_count": null,
   "metadata": {},
   "outputs": [],
   "source": []
  },
  {
   "cell_type": "markdown",
   "metadata": {},
   "source": [
    "Split lyrics by space, and assign to variable `lyrics_seg` (3%)"
   ]
  },
  {
   "cell_type": "code",
   "execution_count": null,
   "metadata": {},
   "outputs": [],
   "source": []
  },
  {
   "cell_type": "markdown",
   "metadata": {},
   "source": [
    "Appart lyrics_seg：the last data assign to variable `x_test`, and the others assign to variable `x_train`. Print \"the length of x_train is ? \" (3%)"
   ]
  },
  {
   "cell_type": "code",
   "execution_count": null,
   "metadata": {},
   "outputs": [],
   "source": []
  },
  {
   "cell_type": "markdown",
   "metadata": {},
   "source": [
    "Design a Function：(4%)\n",
    " - the name is `get_sentiment`\n",
    " - input parameter is data of x_train，please name the parameter `lyric`\n",
    " - output is the sentiment of input data, if positive return `1`, if negative return `-1`\n",
    " - the sentiment is calculated by：\n",
    "  - Declare a variable `score`, and assign 0 to it\n",
    "  - Determin the word in input data is in positve or negative\n",
    "  - if appearing in positve, score plus 1；if appearing in negative, score minus 1\n",
    "  - Finally, if score greater than 0, return `1`；if score less than or equal to 0, if negative return `-1`"
   ]
  },
  {
   "cell_type": "code",
   "execution_count": null,
   "metadata": {},
   "outputs": [],
   "source": []
  },
  {
   "cell_type": "markdown",
   "metadata": {},
   "source": [
    "Use `get_sentiment` to aquire the sentiment of every x_train, and store in variable `y_train` (2%)"
   ]
  },
  {
   "cell_type": "code",
   "execution_count": null,
   "metadata": {},
   "outputs": [],
   "source": []
  },
  {
   "cell_type": "markdown",
   "metadata": {},
   "source": [
    "Find the words appearing in x_train, and store in variable `words` (2%)"
   ]
  },
  {
   "cell_type": "code",
   "execution_count": null,
   "metadata": {},
   "outputs": [],
   "source": []
  },
  {
   "cell_type": "markdown",
   "metadata": {},
   "source": [
    "Design a Function： (4%)\n",
    " - the name is `get_bag_of_word`\n",
    " - input parameters are data of x_train and words,please name the parameter `lyric` and `words`\n",
    " - output is the vector of input data\n",
    " - the method of vector generation：\n",
    "  - import numpy\n",
    "  - Declare a variable `vector` which is zero Array with length the same as words\n",
    "  - count the appearing number of word from words in input data by order, and assign the count to corresponding index of vector."
   ]
  },
  {
   "cell_type": "code",
   "execution_count": null,
   "metadata": {},
   "outputs": [],
   "source": []
  },
  {
   "cell_type": "markdown",
   "metadata": {},
   "source": [
    "The following Function will calculate the similarity of two vectors. Please transform x_train and x_test to vector using `get_bag_of_word`, and caluculate the similarity between x_test and every x_train. Find the most similar 3 lyrics and sum up the corresponding y_train, then print \"the sentiment of test data is ? \"。(? can be 1/-1 or positive/negative) (4%)"
   ]
  },
  {
   "cell_type": "code",
   "execution_count": null,
   "metadata": {},
   "outputs": [],
   "source": [
    "def get_similarity(vector1, vector2):\n",
    "    dot_product = 0.0\n",
    "    normA = 0.0\n",
    "    normB = 0.0\n",
    "    for a, b in zip(vector1, vector2):\n",
    "        dot_product += a * b\n",
    "        normA += a ** 2\n",
    "        normB += b ** 2\n",
    "    return dot_product / ((normA * normB) ** 0.5)"
   ]
  },
  {
   "cell_type": "code",
   "execution_count": null,
   "metadata": {},
   "outputs": [],
   "source": []
  }
 ],
 "metadata": {
  "kernelspec": {
   "display_name": "Python 3",
   "language": "python",
   "name": "python3"
  },
  "language_info": {
   "codemirror_mode": {
    "name": "ipython",
    "version": 3
   },
   "file_extension": ".py",
   "mimetype": "text/x-python",
   "name": "python",
   "nbconvert_exporter": "python",
   "pygments_lexer": "ipython3",
   "version": "3.7.0"
  }
 },
 "nbformat": 4,
 "nbformat_minor": 2
}
