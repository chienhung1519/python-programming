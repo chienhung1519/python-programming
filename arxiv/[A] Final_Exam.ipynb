{
 "cells": [
  {
   "cell_type": "markdown",
   "metadata": {},
   "source": [
    "# Python 程式設計\n",
    "> 期末考實作測驗"
   ]
  },
  {
   "cell_type": "markdown",
   "metadata": {},
   "source": [
    "## Project 1：Air Quality analysis"
   ]
  },
  {
   "cell_type": "markdown",
   "metadata": {},
   "source": [
    "請直接執行以下程式，程式結果將下載 ATM00679_20191230173049.csv 檔案，此檔案由 [OpenData.epa](https://opendata.epa.gov.tw/) 所下載。"
   ]
  },
  {
   "cell_type": "code",
   "execution_count": 1,
   "metadata": {},
   "outputs": [
    {
     "data": {
      "text/plain": [
       "('ATM00679_20191230173049.csv', <http.client.HTTPMessage at 0x1ecbc4a5e10>)"
      ]
     },
     "execution_count": 1,
     "metadata": {},
     "output_type": "execute_result"
    }
   ],
   "source": [
    "from urllib.request import urlretrieve\n",
    "url = 'https://drive.google.com/uc?export=download&id=1lua5zOUUzev-9BZ3MLcp_2FJMDWfJ-DF'\n",
    "urlretrieve(url, \"ATM00679_20191230173049.csv\")"
   ]
  },
  {
   "cell_type": "markdown",
   "metadata": {},
   "source": [
    "ATM00679_20191230173049.csv 檔案欄位說明\n",
    " - SiteId：測站編號\n",
    " - SiteName：測站名稱\n",
    " - MonitorDate：監測日期\n",
    " - AQI：空氣品質指標\n",
    " - SO2SubIndex：二氧化硫副指標\n",
    " - COSubIndex：一氧化碳副指標\n",
    " - O3SubIndex：臭氧副指標\n",
    " - PM10SubIndex：懸浮微粒副指標\n",
    " - NO2SubIndex：二氧化氮副指標\n",
    " - O38SubIndex：臭氧8小時副指標\n",
    " - PM25SubIndex：細懸浮微粒副指標"
   ]
  },
  {
   "cell_type": "markdown",
   "metadata": {},
   "source": [
    "請導入 Pandas 函式庫，並以 pd 作代稱"
   ]
  },
  {
   "cell_type": "code",
   "execution_count": 2,
   "metadata": {},
   "outputs": [],
   "source": [
    "import pandas as pd"
   ]
  },
  {
   "cell_type": "markdown",
   "metadata": {},
   "source": [
    "請使用 Pandas 讀取 ATM00679_20191230173049.csv，將讀取到的 DataFrame 指派給變數 air_quality，並顯示最後五筆資料 "
   ]
  },
  {
   "cell_type": "code",
   "execution_count": 4,
   "metadata": {},
   "outputs": [
    {
     "data": {
      "text/html": [
       "<div>\n",
       "<style scoped>\n",
       "    .dataframe tbody tr th:only-of-type {\n",
       "        vertical-align: middle;\n",
       "    }\n",
       "\n",
       "    .dataframe tbody tr th {\n",
       "        vertical-align: top;\n",
       "    }\n",
       "\n",
       "    .dataframe thead th {\n",
       "        text-align: right;\n",
       "    }\n",
       "</style>\n",
       "<table border=\"1\" class=\"dataframe\">\n",
       "  <thead>\n",
       "    <tr style=\"text-align: right;\">\n",
       "      <th></th>\n",
       "      <th>SiteId</th>\n",
       "      <th>SiteName</th>\n",
       "      <th>MonitorDate</th>\n",
       "      <th>AQI</th>\n",
       "      <th>SO2SubIndex</th>\n",
       "      <th>COSubIndex</th>\n",
       "      <th>O3SubIndex</th>\n",
       "      <th>PM10SubIndex</th>\n",
       "      <th>NO2SubIndex</th>\n",
       "      <th>O38SubIndex</th>\n",
       "      <th>PM25SubIndex</th>\n",
       "    </tr>\n",
       "  </thead>\n",
       "  <tbody>\n",
       "    <tr>\n",
       "      <th>995</th>\n",
       "      <td>80</td>\n",
       "      <td>關山</td>\n",
       "      <td>2019-12-17</td>\n",
       "      <td>20</td>\n",
       "      <td>3.0</td>\n",
       "      <td>NaN</td>\n",
       "      <td>NaN</td>\n",
       "      <td>5.0</td>\n",
       "      <td>8</td>\n",
       "      <td>15.0</td>\n",
       "      <td>20.0</td>\n",
       "    </tr>\n",
       "    <tr>\n",
       "      <th>996</th>\n",
       "      <td>83</td>\n",
       "      <td>麥寮</td>\n",
       "      <td>2019-12-17</td>\n",
       "      <td>79</td>\n",
       "      <td>7.0</td>\n",
       "      <td>NaN</td>\n",
       "      <td>NaN</td>\n",
       "      <td>50.0</td>\n",
       "      <td>25</td>\n",
       "      <td>NaN</td>\n",
       "      <td>79.0</td>\n",
       "    </tr>\n",
       "    <tr>\n",
       "      <th>997</th>\n",
       "      <td>84</td>\n",
       "      <td>富貴角</td>\n",
       "      <td>2019-12-17</td>\n",
       "      <td>56</td>\n",
       "      <td>4.0</td>\n",
       "      <td>6.0</td>\n",
       "      <td>NaN</td>\n",
       "      <td>26.0</td>\n",
       "      <td>31</td>\n",
       "      <td>31.0</td>\n",
       "      <td>56.0</td>\n",
       "    </tr>\n",
       "    <tr>\n",
       "      <th>998</th>\n",
       "      <td>1</td>\n",
       "      <td>基隆</td>\n",
       "      <td>2019-12-16</td>\n",
       "      <td>42</td>\n",
       "      <td>7.0</td>\n",
       "      <td>7.0</td>\n",
       "      <td>NaN</td>\n",
       "      <td>22.0</td>\n",
       "      <td>34</td>\n",
       "      <td>35.0</td>\n",
       "      <td>42.0</td>\n",
       "    </tr>\n",
       "    <tr>\n",
       "      <th>999</th>\n",
       "      <td>2</td>\n",
       "      <td>汐止</td>\n",
       "      <td>2019-12-16</td>\n",
       "      <td>41</td>\n",
       "      <td>33.0</td>\n",
       "      <td>8.0</td>\n",
       "      <td>NaN</td>\n",
       "      <td>24.0</td>\n",
       "      <td>35</td>\n",
       "      <td>27.0</td>\n",
       "      <td>41.0</td>\n",
       "    </tr>\n",
       "  </tbody>\n",
       "</table>\n",
       "</div>"
      ],
      "text/plain": [
       "     SiteId SiteName MonitorDate  AQI  SO2SubIndex  COSubIndex  O3SubIndex  \\\n",
       "995      80       關山  2019-12-17   20          3.0         NaN         NaN   \n",
       "996      83       麥寮  2019-12-17   79          7.0         NaN         NaN   \n",
       "997      84      富貴角  2019-12-17   56          4.0         6.0         NaN   \n",
       "998       1       基隆  2019-12-16   42          7.0         7.0         NaN   \n",
       "999       2       汐止  2019-12-16   41         33.0         8.0         NaN   \n",
       "\n",
       "     PM10SubIndex  NO2SubIndex  O38SubIndex  PM25SubIndex  \n",
       "995           5.0            8         15.0          20.0  \n",
       "996          50.0           25          NaN          79.0  \n",
       "997          26.0           31         31.0          56.0  \n",
       "998          22.0           34         35.0          42.0  \n",
       "999          24.0           35         27.0          41.0  "
      ]
     },
     "execution_count": 4,
     "metadata": {},
     "output_type": "execute_result"
    }
   ],
   "source": [
    "air_quality = pd.read_csv('ATM00679_20191230173049.csv')\n",
    "air_quality.tail()"
   ]
  },
  {
   "cell_type": "markdown",
   "metadata": {},
   "source": [
    "請 print 出 \"air_quality 共有 ? 筆資料\""
   ]
  },
  {
   "cell_type": "code",
   "execution_count": 7,
   "metadata": {},
   "outputs": [
    {
     "name": "stdout",
     "output_type": "stream",
     "text": [
      "air_quality 共有 1000 筆資料\n"
     ]
    }
   ],
   "source": [
    "print(\"air_quality 共有 {} 筆資料\".format(len(air_quality)))"
   ]
  },
  {
   "cell_type": "markdown",
   "metadata": {},
   "source": [
    "請計算每個欄位的遺漏值個數"
   ]
  },
  {
   "cell_type": "code",
   "execution_count": 8,
   "metadata": {},
   "outputs": [
    {
     "data": {
      "text/plain": [
       "SiteId             0\n",
       "SiteName           0\n",
       "MonitorDate        0\n",
       "AQI                0\n",
       "SO2SubIndex        1\n",
       "COSubIndex        78\n",
       "O3SubIndex      1000\n",
       "PM10SubIndex       4\n",
       "NO2SubIndex        0\n",
       "O38SubIndex      143\n",
       "PM25SubIndex       4\n",
       "dtype: int64"
      ]
     },
     "execution_count": 8,
     "metadata": {},
     "output_type": "execute_result"
    }
   ],
   "source": [
    "air_quality.isnull().sum()"
   ]
  },
  {
   "cell_type": "markdown",
   "metadata": {},
   "source": [
    "請將全部皆為遺漏值的欄位刪除，並顯示前五筆資料"
   ]
  },
  {
   "cell_type": "code",
   "execution_count": 10,
   "metadata": {},
   "outputs": [
    {
     "data": {
      "text/html": [
       "<div>\n",
       "<style scoped>\n",
       "    .dataframe tbody tr th:only-of-type {\n",
       "        vertical-align: middle;\n",
       "    }\n",
       "\n",
       "    .dataframe tbody tr th {\n",
       "        vertical-align: top;\n",
       "    }\n",
       "\n",
       "    .dataframe thead th {\n",
       "        text-align: right;\n",
       "    }\n",
       "</style>\n",
       "<table border=\"1\" class=\"dataframe\">\n",
       "  <thead>\n",
       "    <tr style=\"text-align: right;\">\n",
       "      <th></th>\n",
       "      <th>SiteId</th>\n",
       "      <th>SiteName</th>\n",
       "      <th>MonitorDate</th>\n",
       "      <th>AQI</th>\n",
       "      <th>SO2SubIndex</th>\n",
       "      <th>COSubIndex</th>\n",
       "      <th>PM10SubIndex</th>\n",
       "      <th>NO2SubIndex</th>\n",
       "      <th>O38SubIndex</th>\n",
       "      <th>PM25SubIndex</th>\n",
       "    </tr>\n",
       "  </thead>\n",
       "  <tbody>\n",
       "    <tr>\n",
       "      <th>0</th>\n",
       "      <td>1</td>\n",
       "      <td>基隆</td>\n",
       "      <td>2019-12-29</td>\n",
       "      <td>31</td>\n",
       "      <td>7.0</td>\n",
       "      <td>7.0</td>\n",
       "      <td>14.0</td>\n",
       "      <td>30</td>\n",
       "      <td>31.0</td>\n",
       "      <td>28.0</td>\n",
       "    </tr>\n",
       "    <tr>\n",
       "      <th>1</th>\n",
       "      <td>2</td>\n",
       "      <td>汐止</td>\n",
       "      <td>2019-12-29</td>\n",
       "      <td>32</td>\n",
       "      <td>7.0</td>\n",
       "      <td>9.0</td>\n",
       "      <td>14.0</td>\n",
       "      <td>30</td>\n",
       "      <td>20.0</td>\n",
       "      <td>32.0</td>\n",
       "    </tr>\n",
       "    <tr>\n",
       "      <th>2</th>\n",
       "      <td>3</td>\n",
       "      <td>萬里</td>\n",
       "      <td>2019-12-29</td>\n",
       "      <td>24</td>\n",
       "      <td>4.0</td>\n",
       "      <td>5.0</td>\n",
       "      <td>12.0</td>\n",
       "      <td>24</td>\n",
       "      <td>23.0</td>\n",
       "      <td>22.0</td>\n",
       "    </tr>\n",
       "    <tr>\n",
       "      <th>3</th>\n",
       "      <td>4</td>\n",
       "      <td>新店</td>\n",
       "      <td>2019-12-29</td>\n",
       "      <td>29</td>\n",
       "      <td>4.0</td>\n",
       "      <td>9.0</td>\n",
       "      <td>9.0</td>\n",
       "      <td>29</td>\n",
       "      <td>26.0</td>\n",
       "      <td>23.0</td>\n",
       "    </tr>\n",
       "    <tr>\n",
       "      <th>4</th>\n",
       "      <td>5</td>\n",
       "      <td>土城</td>\n",
       "      <td>2019-12-29</td>\n",
       "      <td>35</td>\n",
       "      <td>6.0</td>\n",
       "      <td>14.0</td>\n",
       "      <td>15.0</td>\n",
       "      <td>35</td>\n",
       "      <td>14.0</td>\n",
       "      <td>31.0</td>\n",
       "    </tr>\n",
       "  </tbody>\n",
       "</table>\n",
       "</div>"
      ],
      "text/plain": [
       "   SiteId SiteName MonitorDate  AQI  SO2SubIndex  COSubIndex  PM10SubIndex  \\\n",
       "0       1       基隆  2019-12-29   31          7.0         7.0          14.0   \n",
       "1       2       汐止  2019-12-29   32          7.0         9.0          14.0   \n",
       "2       3       萬里  2019-12-29   24          4.0         5.0          12.0   \n",
       "3       4       新店  2019-12-29   29          4.0         9.0           9.0   \n",
       "4       5       土城  2019-12-29   35          6.0        14.0          15.0   \n",
       "\n",
       "   NO2SubIndex  O38SubIndex  PM25SubIndex  \n",
       "0           30         31.0          28.0  \n",
       "1           30         20.0          32.0  \n",
       "2           24         23.0          22.0  \n",
       "3           29         26.0          23.0  \n",
       "4           35         14.0          31.0  "
      ]
     },
     "execution_count": 10,
     "metadata": {},
     "output_type": "execute_result"
    }
   ],
   "source": [
    "air_quality = air_quality.drop('O3SubIndex', axis=1)\n",
    "air_quality.head()"
   ]
  },
  {
   "cell_type": "markdown",
   "metadata": {},
   "source": [
    "請將遺漏值刪除，並 print 出 \"刪除遺漏值後資料筆數為 ? 筆\""
   ]
  },
  {
   "cell_type": "code",
   "execution_count": 11,
   "metadata": {},
   "outputs": [
    {
     "name": "stdout",
     "output_type": "stream",
     "text": [
      "刪除遺漏值後資料筆數為 838 筆\n"
     ]
    }
   ],
   "source": [
    "air_quality = air_quality.dropna()\n",
    "print(\"刪除遺漏值後資料筆數為 {} 筆\".format(len(air_quality)))"
   ]
  },
  {
   "cell_type": "markdown",
   "metadata": {},
   "source": [
    "請依照 SiteName 分別計算出每個地區的 `平均AQI`，並 print 出 \"平均AQI最大值出現在 ? \""
   ]
  },
  {
   "cell_type": "code",
   "execution_count": 15,
   "metadata": {},
   "outputs": [
    {
     "name": "stdout",
     "output_type": "stream",
     "text": [
      "平均AQI最大值出現在 林園 \n"
     ]
    }
   ],
   "source": [
    "site_name = air_quality['SiteName'].values.tolist()\n",
    "max_value = 0\n",
    "max_site = ''\n",
    "for site in site_name:\n",
    "    df = air_quality[air_quality['SiteName']==site]\n",
    "    AQI_mean = df['AQI'].mean()\n",
    "    if max_value < AQI_mean:\n",
    "        max_value = AQI_mean\n",
    "        max_site = site\n",
    "print(\"平均AQI最大值出現在 {} \".format(max_site))"
   ]
  },
  {
   "cell_type": "markdown",
   "metadata": {},
   "source": [
    "請從 air_quality 取出 [\"AQI\", \"SO2SubIndex\", \"COSubIndex\", \"PM10SubIndex\", \"NO2SubIndex\", \"O38SubIndex\", \"PM25SubIndex\"] 等 7 個欄位的資料並指派給變數 corr_data(資料型態為 DataFrame)"
   ]
  },
  {
   "cell_type": "code",
   "execution_count": 17,
   "metadata": {},
   "outputs": [
    {
     "data": {
      "text/html": [
       "<div>\n",
       "<style scoped>\n",
       "    .dataframe tbody tr th:only-of-type {\n",
       "        vertical-align: middle;\n",
       "    }\n",
       "\n",
       "    .dataframe tbody tr th {\n",
       "        vertical-align: top;\n",
       "    }\n",
       "\n",
       "    .dataframe thead th {\n",
       "        text-align: right;\n",
       "    }\n",
       "</style>\n",
       "<table border=\"1\" class=\"dataframe\">\n",
       "  <thead>\n",
       "    <tr style=\"text-align: right;\">\n",
       "      <th></th>\n",
       "      <th>AQI</th>\n",
       "      <th>SO2SubIndex</th>\n",
       "      <th>COSubIndex</th>\n",
       "      <th>PM10SubIndex</th>\n",
       "      <th>NO2SubIndex</th>\n",
       "      <th>O38SubIndex</th>\n",
       "      <th>PM25SubIndex</th>\n",
       "    </tr>\n",
       "  </thead>\n",
       "  <tbody>\n",
       "    <tr>\n",
       "      <th>0</th>\n",
       "      <td>31</td>\n",
       "      <td>7.0</td>\n",
       "      <td>7.0</td>\n",
       "      <td>14.0</td>\n",
       "      <td>30</td>\n",
       "      <td>31.0</td>\n",
       "      <td>28.0</td>\n",
       "    </tr>\n",
       "    <tr>\n",
       "      <th>1</th>\n",
       "      <td>32</td>\n",
       "      <td>7.0</td>\n",
       "      <td>9.0</td>\n",
       "      <td>14.0</td>\n",
       "      <td>30</td>\n",
       "      <td>20.0</td>\n",
       "      <td>32.0</td>\n",
       "    </tr>\n",
       "    <tr>\n",
       "      <th>2</th>\n",
       "      <td>24</td>\n",
       "      <td>4.0</td>\n",
       "      <td>5.0</td>\n",
       "      <td>12.0</td>\n",
       "      <td>24</td>\n",
       "      <td>23.0</td>\n",
       "      <td>22.0</td>\n",
       "    </tr>\n",
       "    <tr>\n",
       "      <th>3</th>\n",
       "      <td>29</td>\n",
       "      <td>4.0</td>\n",
       "      <td>9.0</td>\n",
       "      <td>9.0</td>\n",
       "      <td>29</td>\n",
       "      <td>26.0</td>\n",
       "      <td>23.0</td>\n",
       "    </tr>\n",
       "    <tr>\n",
       "      <th>4</th>\n",
       "      <td>35</td>\n",
       "      <td>6.0</td>\n",
       "      <td>14.0</td>\n",
       "      <td>15.0</td>\n",
       "      <td>35</td>\n",
       "      <td>14.0</td>\n",
       "      <td>31.0</td>\n",
       "    </tr>\n",
       "  </tbody>\n",
       "</table>\n",
       "</div>"
      ],
      "text/plain": [
       "   AQI  SO2SubIndex  COSubIndex  PM10SubIndex  NO2SubIndex  O38SubIndex  \\\n",
       "0   31          7.0         7.0          14.0           30         31.0   \n",
       "1   32          7.0         9.0          14.0           30         20.0   \n",
       "2   24          4.0         5.0          12.0           24         23.0   \n",
       "3   29          4.0         9.0           9.0           29         26.0   \n",
       "4   35          6.0        14.0          15.0           35         14.0   \n",
       "\n",
       "   PM25SubIndex  \n",
       "0          28.0  \n",
       "1          32.0  \n",
       "2          22.0  \n",
       "3          23.0  \n",
       "4          31.0  "
      ]
     },
     "execution_count": 17,
     "metadata": {},
     "output_type": "execute_result"
    }
   ],
   "source": [
    "corr_data = air_quality.loc[:,\"AQI\":\"PM25SubIndex\"]\n",
    "corr_data.head()"
   ]
  },
  {
   "cell_type": "markdown",
   "metadata": {},
   "source": [
    "請參考 [Pandas dataframe.corr()](https://www.geeksforgeeks.org/python-pandas-dataframe-corr/) 的方式，計算欄位間的 Pearson 相關係數矩陣，並將此矩陣指派給變數 pearson_corr"
   ]
  },
  {
   "cell_type": "code",
   "execution_count": 40,
   "metadata": {},
   "outputs": [
    {
     "data": {
      "text/html": [
       "<div>\n",
       "<style scoped>\n",
       "    .dataframe tbody tr th:only-of-type {\n",
       "        vertical-align: middle;\n",
       "    }\n",
       "\n",
       "    .dataframe tbody tr th {\n",
       "        vertical-align: top;\n",
       "    }\n",
       "\n",
       "    .dataframe thead th {\n",
       "        text-align: right;\n",
       "    }\n",
       "</style>\n",
       "<table border=\"1\" class=\"dataframe\">\n",
       "  <thead>\n",
       "    <tr style=\"text-align: right;\">\n",
       "      <th></th>\n",
       "      <th>AQI</th>\n",
       "      <th>SO2SubIndex</th>\n",
       "      <th>COSubIndex</th>\n",
       "      <th>PM10SubIndex</th>\n",
       "      <th>NO2SubIndex</th>\n",
       "      <th>O38SubIndex</th>\n",
       "      <th>PM25SubIndex</th>\n",
       "    </tr>\n",
       "  </thead>\n",
       "  <tbody>\n",
       "    <tr>\n",
       "      <th>AQI</th>\n",
       "      <td>1.000000</td>\n",
       "      <td>0.354410</td>\n",
       "      <td>0.319447</td>\n",
       "      <td>0.907187</td>\n",
       "      <td>0.331271</td>\n",
       "      <td>0.488218</td>\n",
       "      <td>0.964955</td>\n",
       "    </tr>\n",
       "    <tr>\n",
       "      <th>SO2SubIndex</th>\n",
       "      <td>0.354410</td>\n",
       "      <td>1.000000</td>\n",
       "      <td>0.222726</td>\n",
       "      <td>0.311198</td>\n",
       "      <td>0.384139</td>\n",
       "      <td>0.100697</td>\n",
       "      <td>0.346033</td>\n",
       "    </tr>\n",
       "    <tr>\n",
       "      <th>COSubIndex</th>\n",
       "      <td>0.319447</td>\n",
       "      <td>0.222726</td>\n",
       "      <td>1.000000</td>\n",
       "      <td>0.281528</td>\n",
       "      <td>0.703520</td>\n",
       "      <td>-0.145422</td>\n",
       "      <td>0.380805</td>\n",
       "    </tr>\n",
       "    <tr>\n",
       "      <th>PM10SubIndex</th>\n",
       "      <td>0.907187</td>\n",
       "      <td>0.311198</td>\n",
       "      <td>0.281528</td>\n",
       "      <td>1.000000</td>\n",
       "      <td>0.292616</td>\n",
       "      <td>0.490312</td>\n",
       "      <td>0.915326</td>\n",
       "    </tr>\n",
       "    <tr>\n",
       "      <th>NO2SubIndex</th>\n",
       "      <td>0.331271</td>\n",
       "      <td>0.384139</td>\n",
       "      <td>0.703520</td>\n",
       "      <td>0.292616</td>\n",
       "      <td>1.000000</td>\n",
       "      <td>-0.145141</td>\n",
       "      <td>0.390616</td>\n",
       "    </tr>\n",
       "    <tr>\n",
       "      <th>O38SubIndex</th>\n",
       "      <td>0.488218</td>\n",
       "      <td>0.100697</td>\n",
       "      <td>-0.145422</td>\n",
       "      <td>0.490312</td>\n",
       "      <td>-0.145141</td>\n",
       "      <td>1.000000</td>\n",
       "      <td>0.399611</td>\n",
       "    </tr>\n",
       "    <tr>\n",
       "      <th>PM25SubIndex</th>\n",
       "      <td>0.964955</td>\n",
       "      <td>0.346033</td>\n",
       "      <td>0.380805</td>\n",
       "      <td>0.915326</td>\n",
       "      <td>0.390616</td>\n",
       "      <td>0.399611</td>\n",
       "      <td>1.000000</td>\n",
       "    </tr>\n",
       "  </tbody>\n",
       "</table>\n",
       "</div>"
      ],
      "text/plain": [
       "                   AQI  SO2SubIndex  COSubIndex  PM10SubIndex  NO2SubIndex  \\\n",
       "AQI           1.000000     0.354410    0.319447      0.907187     0.331271   \n",
       "SO2SubIndex   0.354410     1.000000    0.222726      0.311198     0.384139   \n",
       "COSubIndex    0.319447     0.222726    1.000000      0.281528     0.703520   \n",
       "PM10SubIndex  0.907187     0.311198    0.281528      1.000000     0.292616   \n",
       "NO2SubIndex   0.331271     0.384139    0.703520      0.292616     1.000000   \n",
       "O38SubIndex   0.488218     0.100697   -0.145422      0.490312    -0.145141   \n",
       "PM25SubIndex  0.964955     0.346033    0.380805      0.915326     0.390616   \n",
       "\n",
       "              O38SubIndex  PM25SubIndex  \n",
       "AQI              0.488218      0.964955  \n",
       "SO2SubIndex      0.100697      0.346033  \n",
       "COSubIndex      -0.145422      0.380805  \n",
       "PM10SubIndex     0.490312      0.915326  \n",
       "NO2SubIndex     -0.145141      0.390616  \n",
       "O38SubIndex      1.000000      0.399611  \n",
       "PM25SubIndex     0.399611      1.000000  "
      ]
     },
     "execution_count": 40,
     "metadata": {},
     "output_type": "execute_result"
    }
   ],
   "source": [
    "pearson_corr = corr_data.corr(method ='pearson')\n",
    "pearson_corr"
   ]
  },
  {
   "cell_type": "markdown",
   "metadata": {},
   "source": [
    "請找出 AQI 相關係數最大值的其他欄位，並 print 出 \" 與 AQI 最相關的欄位為 ? \""
   ]
  },
  {
   "cell_type": "code",
   "execution_count": 62,
   "metadata": {},
   "outputs": [
    {
     "name": "stdout",
     "output_type": "stream",
     "text": [
      "與 AQI 最相關的欄位為 PM25SubIndex\n"
     ]
    }
   ],
   "source": [
    "max_value = 0\n",
    "max_column = ''\n",
    "columns = pearson_corr.columns\n",
    "for col in columns:\n",
    "    if pearson_corr.loc['AQI',col] > max_value and col != 'AQI':\n",
    "        max_value = pearson_corr.loc['AQI', col]\n",
    "        max_column = col\n",
    "print(\"與 AQI 最相關的欄位為 {}\".format(max_column))"
   ]
  },
  {
   "cell_type": "markdown",
   "metadata": {},
   "source": [
    "## Project 2：Lyric analysis"
   ]
  },
  {
   "cell_type": "markdown",
   "metadata": {},
   "source": [
    "請直接執行以下程式，程式結果將下載三個檔案，分別為 ntusd-positive (zh-tw).txt、ntusd-negative (zh-tw).txt、lyrics_cut_mayday.dataset。ntusd-positive (zh-tw).txt、ntusd-negative (zh-tw).txt 來自於 [link](https://github.com/candlewill/Sentiment_Lexicons/tree/master/resources)；lyrics_cut_mayday.dataset 來自於 [link](https://github.com/youngmihuang/lyrics_application/blob/master/dataset/lyrics_cut_mayday.dataset)。"
   ]
  },
  {
   "cell_type": "code",
   "execution_count": 2,
   "metadata": {},
   "outputs": [
    {
     "data": {
      "text/plain": [
       "('lyrics_cut_mayday.dataset', <http.client.HTTPMessage at 0x2039c5dec88>)"
      ]
     },
     "execution_count": 2,
     "metadata": {},
     "output_type": "execute_result"
    }
   ],
   "source": [
    "from urllib.request import urlretrieve\n",
    "url = 'https://drive.google.com/uc?export=download&id=1wQTOqpDYCau_vL0LCfY-LuOKs6aXRAKL'\n",
    "urlretrieve(url, \"ntusd-positive (zh-tw).txt\")\n",
    "url = 'https://drive.google.com/uc?export=download&id=1CshwZlYgTTwpukk6JqlXEOMW4u1xRofK'\n",
    "urlretrieve(url, \"ntusd-negative (zh-tw).txt\")\n",
    "url = 'https://drive.google.com/uc?export=download&id=1W_6cD6T9zgQBnpfKX-3etpltH0Y6uIpd'\n",
    "urlretrieve(url, \"lyrics_cut_mayday.dataset\")"
   ]
  },
  {
   "cell_type": "markdown",
   "metadata": {},
   "source": [
    "dataset introduction\n",
    " - ntusd-positive (zh-tw).txt：繁體中文跟正向情緒相關的詞語\n",
    " - ntusd-negative (zh-tw).txt：繁體中文跟負向情緒相關的詞語\n",
    " - lyrics_cut_mayday.dataset：36 首 Mayday 的歌詞，已作過斷詞"
   ]
  },
  {
   "cell_type": "markdown",
   "metadata": {},
   "source": [
    "請使用 open() 開啟上述三個檔案，並分別將檔案資料斷行後指派給變數 positive、negative、lyrics"
   ]
  },
  {
   "cell_type": "code",
   "execution_count": 3,
   "metadata": {},
   "outputs": [],
   "source": [
    "with open(\"ntusd-positive (zh-tw).txt\",\"r\",encoding=\"utf8\") as f:\n",
    "    positive = f.read().splitlines()\n",
    "    \n",
    "with open(\"ntusd-negative (zh-tw).txt\",\"r\",encoding=\"utf8\") as f:\n",
    "    negative = f.read().splitlines()\n",
    "\n",
    "with open(\"lyrics_cut_mayday.dataset\",\"r\",encoding=\"utf8\") as f:\n",
    "    lyrics = f.read().splitlines()"
   ]
  },
  {
   "cell_type": "markdown",
   "metadata": {},
   "source": [
    "請將 lyrics 中的每首歌詞依照空格作切分後，指派給另一個變數 lyrics_seg (亦即 lyrics_seg 為斷完詞的36首歌詞)"
   ]
  },
  {
   "cell_type": "code",
   "execution_count": 4,
   "metadata": {},
   "outputs": [],
   "source": [
    "lyrics_seg = []\n",
    "for lyric in lyrics:\n",
    "    lyrics_seg.append(lyric.split())"
   ]
  },
  {
   "cell_type": "markdown",
   "metadata": {},
   "source": [
    "lyrics_seg 作切割，最後一筆資料指派給變數 x_test，其餘指派給變數 x_train，並 print 出 \"x_train 共有 ? 筆資料\""
   ]
  },
  {
   "cell_type": "code",
   "execution_count": 5,
   "metadata": {},
   "outputs": [
    {
     "name": "stdout",
     "output_type": "stream",
     "text": [
      "x_train 共有 35 筆資料\n"
     ]
    }
   ],
   "source": [
    "x_test = lyrics_seg[-1]\n",
    "x_train = lyrics_seg[:-1]\n",
    "print( \"x_train 共有 {} 筆資料\".format(len(x_train)))"
   ]
  },
  {
   "cell_type": "markdown",
   "metadata": {},
   "source": [
    "請製作 Function 符合以下條件：\n",
    " - 名稱為 get_sentiment\n",
    " - 輸入參數為 x_train 的每筆資料，在此請將參數命名為 lyric\n",
    " - 輸出為輸入資料的情感，正向則輸出 `1`，負向則輸出 `-1`\n",
    " - 情感分數的計算方式為：\n",
    "  - 宣告一個變數 score 為 0\n",
    "  - 依序判斷歌詞中的每個字是否有出現在 positve 或 negative 之中\n",
    "  - 如在 positve 有出現，則 score 加 1；如在 negative 有出現，則 score 減 1\n",
    "  - 最後 score 如大於 0，則為正向；如小於等於 0，則為負向"
   ]
  },
  {
   "cell_type": "code",
   "execution_count": 6,
   "metadata": {},
   "outputs": [],
   "source": [
    "def get_sentiment(lyric):\n",
    "    score = 0\n",
    "    for word in lyric:\n",
    "        if word in positive:\n",
    "            score += 1\n",
    "        elif word in negative:\n",
    "            score -= 1\n",
    "    if score > 0:\n",
    "        return 1\n",
    "    else:\n",
    "        return -1"
   ]
  },
  {
   "cell_type": "markdown",
   "metadata": {},
   "source": [
    "請使用 get_sentiment 取得 x_train 中每筆資料的 sentiment，並將結果儲存於變數 y_train 中"
   ]
  },
  {
   "cell_type": "code",
   "execution_count": 7,
   "metadata": {},
   "outputs": [],
   "source": [
    "y_train = []\n",
    "for lyric in x_train:\n",
    "    y_train.append(get_sentiment(lyric))"
   ]
  },
  {
   "cell_type": "markdown",
   "metadata": {},
   "source": [
    "請找出 x_train 共出現了那些詞語，並將結果儲存於變數 words"
   ]
  },
  {
   "cell_type": "code",
   "execution_count": 8,
   "metadata": {},
   "outputs": [],
   "source": [
    "words = []\n",
    "for lyric in x_train:\n",
    "    for word in lyric:\n",
    "        if word not in words:\n",
    "            words.append(word)"
   ]
  },
  {
   "cell_type": "markdown",
   "metadata": {},
   "source": [
    "請製作 Function 符合以下條件：\n",
    " - 名稱為 get_bag_of_word\n",
    " - 輸入參數為 x_train 的每筆資料與 words，在此請將參數命名為 lyric 與 words\n",
    " - 輸出為輸入資料的向量\n",
    " - 向量的產生方式如下：\n",
    "  - 導入 numpy 函式庫，並以 np 作代稱\n",
    "  - 宣告變數 vector 為 words 長度的全零 Array。\n",
    "  - 依序計算 words 中的詞語在輸入資料的出現次數，並調整 vector 中對應位置的數值\n",
    "  - 輸出結果示意：array([19.,  6., 18., ...,  0.,  0.,  0.])"
   ]
  },
  {
   "cell_type": "code",
   "execution_count": 9,
   "metadata": {},
   "outputs": [],
   "source": [
    "import numpy as np\n",
    "def get_bag_of_word(lyric, words):\n",
    "    len_words = len(words)\n",
    "    vector = np.zeros(len_words)\n",
    "    for i in range(len(words)):\n",
    "        cnt = lyric.count(words[i])\n",
    "        vector[i] = cnt\n",
    "    return vector"
   ]
  },
  {
   "cell_type": "markdown",
   "metadata": {},
   "source": [
    "以下 Function 可計算兩個向量的相似度，請依序將 x_train 使用 get_bag_of_word 轉成向量後，再與同樣使用 get_bag_of_word 轉成向量的 x_test 計算相似度，找出最高相似度的三首歌詞，並加總這三首歌詞對應 y_train 的值，最後 print \"測試資料的情緒為 ? \"。(?可為1/-1或positive/negative)"
   ]
  },
  {
   "cell_type": "code",
   "execution_count": 10,
   "metadata": {},
   "outputs": [],
   "source": [
    "def get_similarity(vector1, vector2):\n",
    "    dot_product = 0.0\n",
    "    normA = 0.0\n",
    "    normB = 0.0\n",
    "    for a, b in zip(vector1, vector2):\n",
    "        dot_product += a * b\n",
    "        normA += a ** 2\n",
    "        normB += b ** 2\n",
    "    return dot_product / ((normA * normB) ** 0.5)"
   ]
  },
  {
   "cell_type": "code",
   "execution_count": 12,
   "metadata": {},
   "outputs": [
    {
     "name": "stdout",
     "output_type": "stream",
     "text": [
      "測試資料的情緒為positive\n"
     ]
    }
   ],
   "source": [
    "import pandas as pd\n",
    "\n",
    "similarity = []\n",
    "for lyric in x_train:\n",
    "    vector1 = get_bag_of_word(lyric, words)\n",
    "    vector2 = get_bag_of_word(x_test, words)\n",
    "    similarity.append(get_similarity(vector1, vector2))\n",
    "df = pd.DataFrame({'sentiment':y_train, 'similarity':similarity})\n",
    "df = df.sort_values('similarity',ascending=False)\n",
    "y_test = df.iloc[0:3,0].sum()\n",
    "if y_test == 1:\n",
    "    print(\"測試資料的情緒為positive\")\n",
    "else:\n",
    "    print(\"測試資料的情緒為negative\")"
   ]
  },
  {
   "cell_type": "code",
   "execution_count": null,
   "metadata": {},
   "outputs": [],
   "source": []
  }
 ],
 "metadata": {
  "kernelspec": {
   "display_name": "Python 3",
   "language": "python",
   "name": "python3"
  },
  "language_info": {
   "codemirror_mode": {
    "name": "ipython",
    "version": 3
   },
   "file_extension": ".py",
   "mimetype": "text/x-python",
   "name": "python",
   "nbconvert_exporter": "python",
   "pygments_lexer": "ipython3",
   "version": "3.7.0"
  }
 },
 "nbformat": 4,
 "nbformat_minor": 2
}
